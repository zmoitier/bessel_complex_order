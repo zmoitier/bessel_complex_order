{
 "cells": [
  {
   "cell_type": "markdown",
   "metadata": {},
   "source": [
    "# Test\n",
    "\n",
    "__Zoïs Moitier__\n",
    "\n",
    "_Karlsruhe Institute of Technology, Germany_\n",
    "\n",
    "---\n",
    "\n",
    "## Internals"
   ]
  },
  {
   "cell_type": "code",
   "execution_count": 1,
   "metadata": {},
   "outputs": [],
   "source": [
    "import sympy as sy\n",
    "from IPython.display import display"
   ]
  },
  {
   "cell_type": "code",
   "execution_count": 2,
   "metadata": {},
   "outputs": [],
   "source": [
    "p, z, ζ = sy.symbols(\"p z zeta\")"
   ]
  },
  {
   "cell_type": "code",
   "execution_count": 3,
   "metadata": {},
   "outputs": [],
   "source": [
    "def seq_uv(j_max):\n",
    "    u = [sy.S(1)]\n",
    "    v = [sy.S(1)]\n",
    "    for j in range(1, j_max + 1):\n",
    "        u.append((6 * j - 5) * (6 * j - 1) * u[j - 1] / (48 * j))\n",
    "        v.append((6 * j + 1) * u[j] / (1 - 6 * j))\n",
    "    return (u, v)"
   ]
  },
  {
   "cell_type": "code",
   "execution_count": 4,
   "metadata": {},
   "outputs": [],
   "source": [
    "def poly_U(j_max):\n",
    "    U = [sy.Poly(1, p, domain=\"QQ\")]\n",
    "    D = sy.Poly(p**2 * (1 - p**2) / 2, p)\n",
    "    I = sy.Poly((1 - 5 * p**2) / 8, p)\n",
    "    for j in range(1, j_max + 1):\n",
    "        tmp = D * U[j - 1].diff() + (I * U[j - 1]).integrate()\n",
    "        U.append(tmp)\n",
    "    return U\n",
    "\n",
    "\n",
    "def poly_V(j_max):\n",
    "    U = poly_U(j_max)\n",
    "    V = [sy.Poly(1, p, domain=\"QQ\")]\n",
    "    D0 = sy.Poly(p * (1 - p**2) / 2, p)\n",
    "    D1 = sy.Poly(p**2 * (1 - p**2), p)\n",
    "    for j in range(1, j_max + 1):\n",
    "        V.append(U[j] - D0 * U[j - 1] - D1 * U[j - 1].diff())\n",
    "    return V"
   ]
  },
  {
   "cell_type": "code",
   "execution_count": 5,
   "metadata": {},
   "outputs": [],
   "source": [
    "u, v = seq_uv(1)\n",
    "U = poly_U(1)\n",
    "V = poly_V(1)"
   ]
  },
  {
   "cell_type": "code",
   "execution_count": 26,
   "metadata": {},
   "outputs": [
    {
     "data": {
      "text/latex": [
       "$\\displaystyle \\frac{\\sqrt{2} \\sqrt[4]{\\zeta}}{\\sqrt[4]{1 - z^{2}}}$"
      ],
      "text/plain": [
       "sqrt(2)*zeta**(1/4)/(1 - z**2)**(1/4)"
      ]
     },
     "metadata": {},
     "output_type": "display_data"
    }
   ],
   "source": [
    "ϕ = (4 * ζ) ** sy.Rational(1, 4) / (1 - z**2) ** sy.Rational(1, 4)\n",
    "display(ϕ)"
   ]
  },
  {
   "cell_type": "code",
   "execution_count": 27,
   "metadata": {},
   "outputs": [
    {
     "data": {
      "text/latex": [
       "$\\displaystyle \\frac{5}{- 24 z^{2} \\sqrt{\\zeta} \\sqrt{1 - z^{2}} + 24 \\sqrt{\\zeta} \\sqrt{1 - z^{2}}} - \\frac{5}{48 \\zeta^{2}} - \\frac{1}{8 \\sqrt{\\zeta} \\sqrt{1 - z^{2}}}$"
      ],
      "text/plain": [
       "5/(-24*z**2*sqrt(zeta)*sqrt(1 - z**2) + 24*sqrt(zeta)*sqrt(1 - z**2)) - 5/(48*zeta**2) - 1/(8*sqrt(zeta)*sqrt(1 - z**2))"
      ]
     },
     "metadata": {},
     "output_type": "display_data"
    }
   ],
   "source": [
    "expr = -(ζ ** (sy.Rational(-1, 2))) * (\n",
    "    u[0] * U[1].as_expr().subs(p, (1 - z**2) ** sy.Rational(-1, 2))\n",
    "    + u[1]\n",
    "    * ζ ** sy.Rational(-3, 2)\n",
    "    * U[0].as_expr().subs(p, (1 - z**2) ** sy.Rational(-1, 2))\n",
    ")\n",
    "display(expr.expand())"
   ]
  },
  {
   "cell_type": "code",
   "execution_count": 28,
   "metadata": {},
   "outputs": [
    {
     "data": {
      "text/latex": [
       "$\\displaystyle \\frac{5}{- 24 z^{2} \\sqrt{\\zeta} \\sqrt{1 - z^{2}} + 24 \\sqrt{\\zeta} \\sqrt{1 - z^{2}}} - \\frac{5}{48 \\zeta^{2}} - \\frac{1}{8 \\sqrt{\\zeta} \\sqrt{1 - z^{2}}}$"
      ],
      "text/plain": [
       "5/(-24*z**2*sqrt(zeta)*sqrt(1 - z**2) + 24*sqrt(zeta)*sqrt(1 - z**2)) - 5/(48*zeta**2) - 1/(8*sqrt(zeta)*sqrt(1 - z**2))"
      ]
     },
     "metadata": {},
     "output_type": "display_data"
    }
   ],
   "source": [
    "expr2 = -5 / (48 * ζ**2) + ϕ**2 * (5 / (1 - z**2) - 3) / (48 * ζ)\n",
    "display(expr2.expand())"
   ]
  },
  {
   "cell_type": "code",
   "execution_count": null,
   "metadata": {},
   "outputs": [],
   "source": []
  }
 ],
 "metadata": {
  "kernelspec": {
   "display_name": "Python 3",
   "language": "python",
   "name": "python3"
  },
  "language_info": {
   "codemirror_mode": {
    "name": "ipython",
    "version": 3
   },
   "file_extension": ".py",
   "mimetype": "text/x-python",
   "name": "python",
   "nbconvert_exporter": "python",
   "pygments_lexer": "ipython3",
   "version": "3.9.7"
  }
 },
 "nbformat": 4,
 "nbformat_minor": 4
}
