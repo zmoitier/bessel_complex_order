{
 "cells": [
  {
   "cell_type": "markdown",
   "metadata": {},
   "source": [
    "# Taylor expansions\n",
    "\n",
    "__Zoïs Moitier__\n",
    "\n",
    "_Karlsruhe Institute of Technology, Germany_\n",
    "\n",
    "---\n",
    "\n",
    "## Internals"
   ]
  },
  {
   "cell_type": "code",
   "execution_count": 1,
   "metadata": {},
   "outputs": [],
   "source": [
    "import sympy as sy\n",
    "from IPython.display import display\n",
    "\n",
    "import src"
   ]
  },
  {
   "cell_type": "code",
   "execution_count": 2,
   "metadata": {},
   "outputs": [],
   "source": [
    "ζ, η, X = sy.symbols(\"zeta eta X\")\n",
    "order = 12"
   ]
  },
  {
   "cell_type": "code",
   "execution_count": 3,
   "metadata": {},
   "outputs": [],
   "source": [
    "def taylor_w(order):\n",
    "    if order <= 2:\n",
    "        return 1 - 2 ** sy.Rational(-1, 3) * ζ + sy.O(ζ**order)\n",
    "\n",
    "    w = 1 - 2 ** sy.Rational(-1, 3) * ζ\n",
    "    α = sy.symbols(\"alpha\")\n",
    "    for k in range(2, order):\n",
    "        w += α * ζ**k\n",
    "        expr_l = (ζ * w**2 + sy.O(ζ ** (k + 1))).expand()\n",
    "        expr_r = ((1 - w**2) * w.diff(ζ) ** 2 + sy.O(ζ ** (k + 1))).expand()\n",
    "        eq = sy.Eq(expr_l.coeff(ζ, k), expr_r.coeff(ζ, k))\n",
    "        w = w.subs(α, sy.solveset(eq, α).args[0])\n",
    "\n",
    "    return w + sy.O(ζ**order)"
   ]
  },
  {
   "cell_type": "code",
   "execution_count": 4,
   "metadata": {},
   "outputs": [],
   "source": [
    "def _calc_B(ψ, A, k):\n",
    "    expr_r = (ψ * A[k] - A[k].diff(ζ, 2)).expand()\n",
    "\n",
    "    bn = sy.symbols(f\"b0:{expr_r.getn()}\")\n",
    "    Bk = sum([s * ζ**n for n, s in enumerate(bn)], expr_r.getO())\n",
    "    expr_l = (2 * ζ * Bk.diff(ζ) + Bk).expand()\n",
    "\n",
    "    return sum(\n",
    "        [\n",
    "            (expr_r.coeff(ζ, n) / expr_l.coeff(ζ, n).coeff(bn[n])) * ζ**n\n",
    "            for n in range(expr_r.getn())\n",
    "        ],\n",
    "        expr_r.getO(),\n",
    "    )\n",
    "\n",
    "\n",
    "def _calc_A(A, B, k):\n",
    "    Ak = 0\n",
    "    for n in range(1, k):\n",
    "        Ak -= (A[n] * A[k - n]).expand()\n",
    "    for n in range(k):\n",
    "        Ak -= (A[n] * B[k - 1 - n].diff(ζ)).expand()\n",
    "        Ak += (A[n].diff(ζ) * B[k - 1 - n]).expand()\n",
    "        Ak += (ζ * B[n] * B[k - 1 - n]).expand()\n",
    "    return (Ak / 2).expand()\n",
    "\n",
    "\n",
    "def taylor_AB(ψ, K):\n",
    "    A = [1 + 0 * ζ]\n",
    "    B = [_calc_B(ψ, A, 0)]\n",
    "\n",
    "    for k in range(1, K + 1):\n",
    "        A.append(_calc_A(A, B, k))\n",
    "        B.append(_calc_B(ψ, A, k))\n",
    "\n",
    "    return (A, B)"
   ]
  },
  {
   "cell_type": "code",
   "execution_count": 5,
   "metadata": {},
   "outputs": [],
   "source": [
    "def taylor_CD(χ, A, B, K):\n",
    "    C = [(χ * A[k] + A[k].diff(ζ) + ζ * B[k]).expand() for k in range(K + 1)]\n",
    "    D = [1 + 0 * ζ]\n",
    "    D.extend(\n",
    "        [(A[k] + χ * B[k - 1] + B[k - 1].diff(ζ)).expand() for k in range(1, K + 1)]\n",
    "    )\n",
    "\n",
    "    return (C, D)"
   ]
  },
  {
   "cell_type": "markdown",
   "metadata": {},
   "source": [
    "---\n",
    "\n",
    "## Taylor expansion of $w(\\zeta)$"
   ]
  },
  {
   "cell_type": "code",
   "execution_count": 6,
   "metadata": {},
   "outputs": [
    {
     "data": {
      "text/latex": [
       "$\\displaystyle 1 - \\frac{2^{\\frac{2}{3}} \\zeta}{2} + \\frac{3 \\cdot \\sqrt[3]{2} \\zeta^{2}}{20} + \\frac{\\zeta^{3}}{700} - \\frac{479 \\cdot 2^{\\frac{2}{3}} \\zeta^{4}}{252000} - \\frac{20231 \\cdot \\sqrt[3]{2} \\zeta^{5}}{32340000} - \\frac{171389 \\zeta^{6}}{4204200000} + \\frac{203448767 \\cdot 2^{\\frac{2}{3}} \\zeta^{7}}{7945938000000} + \\frac{4236299281 \\cdot \\sqrt[3]{2} \\zeta^{8}}{360215856000000} + \\frac{750913741013 \\zeta^{9}}{627375949200000000} - \\frac{11800431220250863 \\cdot 2^{\\frac{2}{3}} \\zeta^{10}}{21343329791784000000000} - \\frac{632807379979991399 \\cdot \\sqrt[3]{2} \\zeta^{11}}{2127218535914472000000000} + O\\left(\\zeta^{12}\\right)$"
      ],
      "text/plain": [
       "1 - 2**(2/3)*zeta/2 + 3*2**(1/3)*zeta**2/20 + zeta**3/700 - 479*2**(2/3)*zeta**4/252000 - 20231*2**(1/3)*zeta**5/32340000 - 171389*zeta**6/4204200000 + 203448767*2**(2/3)*zeta**7/7945938000000 + 4236299281*2**(1/3)*zeta**8/360215856000000 + 750913741013*zeta**9/627375949200000000 - 11800431220250863*2**(2/3)*zeta**10/21343329791784000000000 - 632807379979991399*2**(1/3)*zeta**11/2127218535914472000000000 + O(zeta**12)"
      ]
     },
     "metadata": {},
     "output_type": "display_data"
    }
   ],
   "source": [
    "w = taylor_w(order)\n",
    "# display(w.subs(ζ, 2 ** sy.Rational(1, 3) * η))\n",
    "display(w)"
   ]
  },
  {
   "cell_type": "markdown",
   "metadata": {},
   "source": [
    "---\n",
    "\n",
    "## Taylor expansion $\\phi_0(\\zeta)$"
   ]
  },
  {
   "cell_type": "code",
   "execution_count": 7,
   "metadata": {},
   "outputs": [
    {
     "data": {
      "text/latex": [
       "$\\displaystyle \\sqrt[3]{2} + \\frac{\\zeta}{5} + \\frac{9 \\cdot 2^{\\frac{2}{3}} \\zeta^{2}}{700} - \\frac{89 \\cdot \\sqrt[3]{2} \\zeta^{3}}{31500} - \\frac{4547 \\zeta^{4}}{2310000} - \\frac{18251 \\cdot 2^{\\frac{2}{3}} \\zeta^{5}}{140140000} + \\frac{52621141 \\cdot \\sqrt[3]{2} \\zeta^{6}}{567567000000} + \\frac{181116587 \\zeta^{7}}{3411135000000} + \\frac{240938108053 \\cdot 2^{\\frac{2}{3}} \\zeta^{8}}{89625135600000000} - \\frac{17587597826723657 \\cdot \\sqrt[3]{2} \\zeta^{9}}{5335832447946000000000} - \\frac{69206978393163893 \\zeta^{10}}{39392935850268000000000} + O\\left(\\zeta^{11}\\right)$"
      ],
      "text/plain": [
       "2**(1/3) + zeta/5 + 9*2**(2/3)*zeta**2/700 - 89*2**(1/3)*zeta**3/31500 - 4547*zeta**4/2310000 - 18251*2**(2/3)*zeta**5/140140000 + 52621141*2**(1/3)*zeta**6/567567000000 + 181116587*zeta**7/3411135000000 + 240938108053*2**(2/3)*zeta**8/89625135600000000 - 17587597826723657*2**(1/3)*zeta**9/5335832447946000000000 - 69206978393163893*zeta**10/39392935850268000000000 + O(zeta**11)"
      ]
     },
     "metadata": {},
     "output_type": "display_data"
    }
   ],
   "source": [
    "ϕ0 = ((((1 - w**2) / (4 * ζ)).expand()) ** sy.Rational(-1, 4)).series(\n",
    "    ζ, x0=0, n=order - 1\n",
    ")\n",
    "# display((ϕ0.subs(ζ, 2 ** sy.Rational(1, 3) * η) / 2 ** sy.Rational(1, 3)).expand())\n",
    "display(ϕ0)\n",
    "# print([src.num2str(ϕ0.coeff(ζ, k)) for k in range(order - 1)])"
   ]
  },
  {
   "cell_type": "markdown",
   "metadata": {},
   "source": [
    "---\n",
    "\n",
    "## Taylor expansion $\\phi_1(\\zeta)$"
   ]
  },
  {
   "cell_type": "code",
   "execution_count": 8,
   "metadata": {},
   "outputs": [
    {
     "data": {
      "text/latex": [
       "$\\displaystyle 2^{\\frac{2}{3}} + \\frac{4 \\cdot \\sqrt[3]{2} \\zeta}{5} + \\frac{18 \\zeta^{2}}{35} + \\frac{44 \\cdot 2^{\\frac{2}{3}} \\zeta^{3}}{315} + \\frac{39793 \\cdot \\sqrt[3]{2} \\zeta^{4}}{606375} + \\frac{591156 \\zeta^{5}}{21896875} + \\frac{304382131 \\cdot 2^{\\frac{2}{3}} \\zeta^{6}}{62077640625} + \\frac{21766532 \\cdot \\sqrt[3]{2} \\zeta^{7}}{13705453125} + \\frac{1370455137 \\zeta^{8}}{2932446343750} + \\frac{105807812767 \\cdot 2^{\\frac{2}{3}} \\zeta^{9}}{1636035753515625} + \\frac{1917245573688890701 \\cdot \\sqrt[3]{2} \\zeta^{10}}{109061497202646269531250} + O\\left(\\zeta^{11}\\right)$"
      ],
      "text/plain": [
       "2**(2/3) + 4*2**(1/3)*zeta/5 + 18*zeta**2/35 + 44*2**(2/3)*zeta**3/315 + 39793*2**(1/3)*zeta**4/606375 + 591156*zeta**5/21896875 + 304382131*2**(2/3)*zeta**6/62077640625 + 21766532*2**(1/3)*zeta**7/13705453125 + 1370455137*zeta**8/2932446343750 + 105807812767*2**(2/3)*zeta**9/1636035753515625 + 1917245573688890701*2**(1/3)*zeta**10/109061497202646269531250 + O(zeta**11)"
      ]
     },
     "metadata": {},
     "output_type": "display_data"
    }
   ],
   "source": [
    "ϕ1 = (\n",
    "    (2 / w).series(ζ, n=order)\n",
    "    * ((((1 - w**2) / (4 * ζ)).expand()) ** sy.Rational(1, 4)).series(ζ, n=order - 1)\n",
    ").expand()\n",
    "# display((ϕ1.subs(ζ, 2 ** sy.Rational(1, 3) * η) / 2 ** sy.Rational(2, 3)).expand())\n",
    "display(ϕ1)\n",
    "# print([src.num2str(ϕ1.coeff(ζ, k)) for k in range(order - 1)])"
   ]
  },
  {
   "cell_type": "markdown",
   "metadata": {},
   "source": [
    "---\n",
    "\n",
    "## Taylor expansion $\\psi(\\zeta)$"
   ]
  },
  {
   "cell_type": "code",
   "execution_count": 9,
   "metadata": {},
   "outputs": [
    {
     "data": {
      "text/latex": [
       "$\\displaystyle \\frac{\\sqrt[3]{2}}{70} + \\frac{2 \\zeta}{75} + \\frac{69 \\cdot 2^{\\frac{2}{3}} \\zeta^{2}}{13475} - \\frac{148 \\cdot \\sqrt[3]{2} \\zeta^{3}}{73125} - \\frac{19232 \\zeta^{4}}{7074375} - \\frac{29368 \\cdot 2^{\\frac{2}{3}} \\zeta^{5}}{72515625} + \\frac{1208831912 \\cdot \\sqrt[3]{2} \\zeta^{6}}{6986122171875} + \\frac{49058816 \\zeta^{7}}{251266640625} + \\frac{207539156903888 \\cdot 2^{\\frac{2}{3}} \\zeta^{8}}{7920224923939453125} + O\\left(\\zeta^{9}\\right)$"
      ],
      "text/plain": [
       "2**(1/3)/70 + 2*zeta/75 + 69*2**(2/3)*zeta**2/13475 - 148*2**(1/3)*zeta**3/73125 - 19232*zeta**4/7074375 - 29368*2**(2/3)*zeta**5/72515625 + 1208831912*2**(1/3)*zeta**6/6986122171875 + 49058816*zeta**7/251266640625 + 207539156903888*2**(2/3)*zeta**8/7920224923939453125 + O(zeta**9)"
      ]
     },
     "metadata": {},
     "output_type": "display_data"
    }
   ],
   "source": [
    "ψ = (\n",
    "    5 / (16 * ζ**2)\n",
    "    + (\n",
    "        w**2\n",
    "        * (w**2 + 4)\n",
    "        * (1 / (4 * (w**2 - 1) ** 3 / ζ**3).expand()).series(ζ, n=order - 1)\n",
    "        / ζ**2\n",
    "    ).expand()\n",
    ")\n",
    "# display((ψ.subs(ζ, 2 ** sy.Rational(1, 3) * η) / 2 ** sy.Rational(1, 3)).expand())\n",
    "display(ψ)\n",
    "# print([src.num2str(ψ.coeff(ζ, k)) for k in range(order - 1)])"
   ]
  },
  {
   "cell_type": "markdown",
   "metadata": {},
   "source": [
    "---\n",
    "\n",
    "## Taylor expansion $\\chi(\\zeta)$"
   ]
  },
  {
   "cell_type": "code",
   "execution_count": 10,
   "metadata": {},
   "outputs": [
    {
     "data": {
      "text/latex": [
       "$\\displaystyle \\frac{2^{\\frac{2}{3}}}{10} + \\frac{\\sqrt[3]{2} \\zeta}{175} - \\frac{32 \\zeta^{2}}{2625} - \\frac{7606 \\cdot 2^{\\frac{2}{3}} \\zeta^{3}}{3031875} + \\frac{43412 \\cdot \\sqrt[3]{2} \\zeta^{4}}{197071875} + \\frac{3997696 \\zeta^{5}}{6897515625} + \\frac{73443616 \\cdot 2^{\\frac{2}{3}} \\zeta^{6}}{753799921875} - \\frac{132580663216 \\cdot \\sqrt[3]{2} \\zeta^{7}}{7719664999921875} - \\frac{248396455936 \\zeta^{8}}{9190077380859375} - \\frac{224428270159801696 \\cdot 2^{\\frac{2}{3}} \\zeta^{9}}{54530748601323134765625} + O\\left(\\zeta^{10}\\right)$"
      ],
      "text/plain": [
       "2**(2/3)/10 + 2**(1/3)*zeta/175 - 32*zeta**2/2625 - 7606*2**(2/3)*zeta**3/3031875 + 43412*2**(1/3)*zeta**4/197071875 + 3997696*zeta**5/6897515625 + 73443616*2**(2/3)*zeta**6/753799921875 - 132580663216*2**(1/3)*zeta**7/7719664999921875 - 248396455936*zeta**8/9190077380859375 - 224428270159801696*2**(2/3)*zeta**9/54530748601323134765625 + O(zeta**10)"
      ]
     },
     "metadata": {},
     "output_type": "display_data"
    }
   ],
   "source": [
    "χ = ((4 - w**2 * ϕ0**6).expand() / (16 * ζ)).expand()\n",
    "# display((χ.subs(ζ, 2 ** sy.Rational(1, 3) * η) / 2 ** sy.Rational(-1, 3)).expand())\n",
    "display(χ)\n",
    "# print([src.num2str(χ.coeff(ζ, k)) for k in range(order - 1)])"
   ]
  },
  {
   "cell_type": "markdown",
   "metadata": {},
   "source": [
    "---\n",
    "\n",
    "## Taylor expansion $A_k(\\zeta)$ and $B_k(\\zeta)$"
   ]
  },
  {
   "cell_type": "code",
   "execution_count": 17,
   "metadata": {},
   "outputs": [],
   "source": [
    "A, B = taylor_AB(ψ, 3)"
   ]
  },
  {
   "cell_type": "code",
   "execution_count": 18,
   "metadata": {},
   "outputs": [
    {
     "data": {
      "text/latex": [
       "$\\displaystyle 1$"
      ],
      "text/plain": [
       "1"
      ]
     },
     "metadata": {},
     "output_type": "display_data"
    },
    {
     "data": {
      "text/latex": [
       "$\\displaystyle - \\frac{1}{225} - \\frac{71 \\cdot 2^{\\frac{2}{3}} \\zeta}{77000} + \\frac{41 \\cdot \\sqrt[3]{2} \\zeta^{2}}{73125} + \\frac{2623 \\zeta^{3}}{3898125} + \\frac{46432 \\cdot 2^{\\frac{2}{3}} \\zeta^{4}}{478603125} - \\frac{593793623 \\cdot \\sqrt[3]{2} \\zeta^{5}}{12974226890625} - \\frac{564066848 \\zeta^{6}}{11306998828125} - \\frac{379132331724868 \\cdot 2^{\\frac{2}{3}} \\zeta^{7}}{57704495874416015625} + O\\left(\\zeta^{8}\\right)$"
      ],
      "text/plain": [
       "-1/225 - 71*2**(2/3)*zeta/77000 + 41*2**(1/3)*zeta**2/73125 + 2623*zeta**3/3898125 + 46432*2**(2/3)*zeta**4/478603125 - 593793623*2**(1/3)*zeta**5/12974226890625 - 564066848*zeta**6/11306998828125 - 379132331724868*2**(2/3)*zeta**7/57704495874416015625 + O(zeta**8)"
      ]
     },
     "metadata": {},
     "output_type": "display_data"
    },
    {
     "data": {
      "text/latex": [
       "$\\displaystyle \\frac{151439}{218295000} + \\frac{68401 \\cdot 2^{\\frac{2}{3}} \\zeta}{294525000} - \\frac{1796498167 \\cdot \\sqrt[3]{2} \\zeta^{2}}{8387379000000} - \\frac{583721053 \\zeta^{3}}{1661436562500} - \\frac{93484125814411 \\cdot 2^{\\frac{2}{3}} \\zeta^{4}}{1420418359985625000} + O\\left(\\zeta^{5}\\right)$"
      ],
      "text/plain": [
       "151439/218295000 + 68401*2**(2/3)*zeta/294525000 - 1796498167*2**(1/3)*zeta**2/8387379000000 - 583721053*zeta**3/1661436562500 - 93484125814411*2**(2/3)*zeta**4/1420418359985625000 + O(zeta**5)"
      ]
     },
     "metadata": {},
     "output_type": "display_data"
    },
    {
     "data": {
      "text/latex": [
       "$\\displaystyle - \\frac{887278009}{2504935125000} - \\frac{3032321618951 \\cdot 2^{\\frac{2}{3}} \\zeta}{19417885987500000} + O\\left(\\zeta^{2}\\right)$"
      ],
      "text/plain": [
       "-887278009/2504935125000 - 3032321618951*2**(2/3)*zeta/19417885987500000 + O(zeta**2)"
      ]
     },
     "metadata": {},
     "output_type": "display_data"
    }
   ],
   "source": [
    "for a in A:\n",
    "    # display(a.subs(ζ, 2 ** sy.Rational(1, 3) * η))\n",
    "    display(a)"
   ]
  },
  {
   "cell_type": "code",
   "execution_count": 19,
   "metadata": {},
   "outputs": [
    {
     "data": {
      "text/latex": [
       "$\\displaystyle \\frac{\\sqrt[3]{2}}{70} + \\frac{2 \\zeta}{225} + \\frac{69 \\cdot 2^{\\frac{2}{3}} \\zeta^{2}}{67375} - \\frac{148 \\cdot \\sqrt[3]{2} \\zeta^{3}}{511875} - \\frac{19232 \\zeta^{4}}{63669375} - \\frac{29368 \\cdot 2^{\\frac{2}{3}} \\zeta^{5}}{797671875} + \\frac{1208831912 \\cdot \\sqrt[3]{2} \\zeta^{6}}{90819588234375} + \\frac{49058816 \\zeta^{7}}{3768999609375} + \\frac{207539156903888 \\cdot 2^{\\frac{2}{3}} \\zeta^{8}}{134643823706970703125} + O\\left(\\zeta^{9}\\right)$"
      ],
      "text/plain": [
       "2**(1/3)/70 + 2*zeta/225 + 69*2**(2/3)*zeta**2/67375 - 148*2**(1/3)*zeta**3/511875 - 19232*zeta**4/63669375 - 29368*2**(2/3)*zeta**5/797671875 + 1208831912*2**(1/3)*zeta**6/90819588234375 + 49058816*zeta**7/3768999609375 + 207539156903888*2**(2/3)*zeta**8/134643823706970703125 + O(zeta**9)"
      ]
     },
     "metadata": {},
     "output_type": "display_data"
    },
    {
     "data": {
      "text/latex": [
       "$\\displaystyle - \\frac{1213 \\cdot \\sqrt[3]{2}}{1023750} - \\frac{3757 \\zeta}{2695000} - \\frac{3225661 \\cdot 2^{\\frac{2}{3}} \\zeta^{2}}{13400887500} + \\frac{90454643 \\cdot \\sqrt[3]{2} \\zeta^{3}}{673985812500} + \\frac{24359972393 \\zeta^{4}}{142468185234375} + \\frac{2984904217639567 \\cdot 2^{\\frac{2}{3}} \\zeta^{5}}{115408991748832031250} + O\\left(\\zeta^{6}\\right)$"
      ],
      "text/plain": [
       "-1213*2**(1/3)/1023750 - 3757*zeta/2695000 - 3225661*2**(2/3)*zeta**2/13400887500 + 90454643*2**(1/3)*zeta**3/673985812500 + 24359972393*zeta**4/142468185234375 + 2984904217639567*2**(2/3)*zeta**5/115408991748832031250 + O(zeta**6)"
      ]
     },
     "metadata": {},
     "output_type": "display_data"
    },
    {
     "data": {
      "text/latex": [
       "$\\displaystyle \\frac{16542537833 \\cdot \\sqrt[3]{2}}{37743205500000} + \\frac{115773498223 \\zeta}{162820783125000} + \\frac{548511920915149 \\cdot 2^{\\frac{2}{3}} \\zeta^{2}}{3443438448450000000} + O\\left(\\zeta^{3}\\right)$"
      ],
      "text/plain": [
       "16542537833*2**(1/3)/37743205500000 + 115773498223*zeta/162820783125000 + 548511920915149*2**(2/3)*zeta**2/3443438448450000000 + O(zeta**3)"
      ]
     },
     "metadata": {},
     "output_type": "display_data"
    },
    {
     "data": {
      "text/latex": [
       "$\\displaystyle O\\left(1\\right)$"
      ],
      "text/plain": [
       "O(1)"
      ]
     },
     "metadata": {},
     "output_type": "display_data"
    }
   ],
   "source": [
    "for b in B:\n",
    "    # display((b.subs(ζ, 2 ** sy.Rational(1, 3) * η) / 2 ** sy.Rational(1, 3)).expand())\n",
    "    display(b)"
   ]
  },
  {
   "cell_type": "markdown",
   "metadata": {},
   "source": [
    "---\n",
    "\n",
    "## Taylor expansion $C_k(\\zeta)$ and $D_k(\\zeta)$"
   ]
  },
  {
   "cell_type": "code",
   "execution_count": 20,
   "metadata": {},
   "outputs": [],
   "source": [
    "C, D = taylor_CD(χ, A, B, 3)"
   ]
  },
  {
   "cell_type": "code",
   "execution_count": 21,
   "metadata": {},
   "outputs": [
    {
     "data": {
      "text/latex": [
       "$\\displaystyle \\frac{2^{\\frac{2}{3}}}{10} + \\frac{\\sqrt[3]{2} \\zeta}{50} - \\frac{26 \\zeta^{2}}{7875} - \\frac{643 \\cdot 2^{\\frac{2}{3}} \\zeta^{3}}{433125} - \\frac{13568 \\cdot \\sqrt[3]{2} \\zeta^{4}}{197071875} + \\frac{820384 \\zeta^{5}}{2956078125} + \\frac{45690856 \\cdot 2^{\\frac{2}{3}} \\zeta^{6}}{753799921875} - \\frac{46828808 \\cdot \\sqrt[3]{2} \\zeta^{7}}{12118783359375} - \\frac{386324128768 \\zeta^{8}}{27570232142578125} - \\frac{20053558801961008 \\cdot 2^{\\frac{2}{3}} \\zeta^{9}}{7790106943046162109375} + O\\left(\\zeta^{10}\\right)$"
      ],
      "text/plain": [
       "2**(2/3)/10 + 2**(1/3)*zeta/50 - 26*zeta**2/7875 - 643*2**(2/3)*zeta**3/433125 - 13568*2**(1/3)*zeta**4/197071875 + 820384*zeta**5/2956078125 + 45690856*2**(2/3)*zeta**6/753799921875 - 46828808*2**(1/3)*zeta**7/12118783359375 - 386324128768*zeta**8/27570232142578125 - 20053558801961008*2**(2/3)*zeta**9/7790106943046162109375 + O(zeta**10)"
      ]
     },
     "metadata": {},
     "output_type": "display_data"
    },
    {
     "data": {
      "text/latex": [
       "$\\displaystyle - \\frac{947 \\cdot 2^{\\frac{2}{3}}}{693000} - \\frac{947 \\cdot \\sqrt[3]{2} \\zeta}{3465000} + \\frac{49213 \\zeta^{2}}{63063000} + \\frac{28974929 \\cdot 2^{\\frac{2}{3}} \\zeta^{3}}{120607987500} - \\frac{21928777841 \\cdot \\sqrt[3]{2} \\zeta^{4}}{294082476187500} - \\frac{22387957645723 \\zeta^{5}}{148879253569921875} - \\frac{110689189547687 \\cdot 2^{\\frac{2}{3}} \\zeta^{6}}{3804692035675781250} + O\\left(\\zeta^{7}\\right)$"
      ],
      "text/plain": [
       "-947*2**(2/3)/693000 - 947*2**(1/3)*zeta/3465000 + 49213*zeta**2/63063000 + 28974929*2**(2/3)*zeta**3/120607987500 - 21928777841*2**(1/3)*zeta**4/294082476187500 - 22387957645723*zeta**5/148879253569921875 - 110689189547687*2**(2/3)*zeta**6/3804692035675781250 + O(zeta**7)"
      ]
     },
     "metadata": {},
     "output_type": "display_data"
    },
    {
     "data": {
      "text/latex": [
       "$\\displaystyle \\frac{11192989 \\cdot 2^{\\frac{2}{3}}}{37110150000} + \\frac{11192989 \\cdot \\sqrt[3]{2} \\zeta}{185550750000} - \\frac{13568179426889 \\zeta^{2}}{34648262649000000} - \\frac{524855975157853 \\cdot 2^{\\frac{2}{3}} \\zeta^{3}}{3622318367850000000} + O\\left(\\zeta^{4}\\right)$"
      ],
      "text/plain": [
       "11192989*2**(2/3)/37110150000 + 11192989*2**(1/3)*zeta/185550750000 - 13568179426889*zeta**2/34648262649000000 - 524855975157853*2**(2/3)*zeta**3/3622318367850000000 + O(zeta**4)"
      ]
     },
     "metadata": {},
     "output_type": "display_data"
    },
    {
     "data": {
      "text/latex": [
       "$\\displaystyle - \\frac{100443412440047 \\cdot 2^{\\frac{2}{3}}}{524282921662500000} + O\\left(\\zeta\\right)$"
      ],
      "text/plain": [
       "-100443412440047*2**(2/3)/524282921662500000 + O(zeta)"
      ]
     },
     "metadata": {},
     "output_type": "display_data"
    }
   ],
   "source": [
    "for c in C:\n",
    "    # display((c.subs(ζ, 2 ** sy.Rational(1, 3) * η) / 2 ** sy.Rational(2, 3)).expand())\n",
    "    display(c)"
   ]
  },
  {
   "cell_type": "code",
   "execution_count": 22,
   "metadata": {},
   "outputs": [
    {
     "data": {
      "text/latex": [
       "$\\displaystyle 1$"
      ],
      "text/plain": [
       "1"
      ]
     },
     "metadata": {},
     "output_type": "display_data"
    },
    {
     "data": {
      "text/latex": [
       "$\\displaystyle \\frac{23}{3150} + \\frac{1453 \\cdot 2^{\\frac{2}{3}} \\zeta}{693000} - \\frac{8878 \\cdot \\sqrt[3]{2} \\zeta^{2}}{39414375} - \\frac{270131 \\zeta^{3}}{354729375} - \\frac{4539842 \\cdot 2^{\\frac{2}{3}} \\zeta^{4}}{30151996875} + \\frac{570560449 \\cdot \\sqrt[3]{2} \\zeta^{5}}{16966296703125} + \\frac{942725500448 \\zeta^{6}}{16542139285546875} + \\frac{4931542652643164 \\cdot 2^{\\frac{2}{3}} \\zeta^{7}}{519340462869744140625} + O\\left(\\zeta^{8}\\right)$"
      ],
      "text/plain": [
       "23/3150 + 1453*2**(2/3)*zeta/693000 - 8878*2**(1/3)*zeta**2/39414375 - 270131*zeta**3/354729375 - 4539842*2**(2/3)*zeta**4/30151996875 + 570560449*2**(1/3)*zeta**5/16966296703125 + 942725500448*zeta**6/16542139285546875 + 4931542652643164*2**(2/3)*zeta**7/519340462869744140625 + O(zeta**8)"
      ]
     },
     "metadata": {},
     "output_type": "display_data"
    },
    {
     "data": {
      "text/latex": [
       "$\\displaystyle - \\frac{604523}{644962500} - \\frac{105959543 \\cdot 2^{\\frac{2}{3}} \\zeta}{268017750000} + \\frac{34879215863 \\cdot \\sqrt[3]{2} \\zeta^{2}}{237642405000000} + \\frac{5138177650373 \\zeta^{3}}{13534477597265625} + \\frac{1090023854137571 \\cdot 2^{\\frac{2}{3}} \\zeta^{4}}{12451719389484375000} + O\\left(\\zeta^{5}\\right)$"
      ],
      "text/plain": [
       "-604523/644962500 - 105959543*2**(2/3)*zeta/268017750000 + 34879215863*2**(1/3)*zeta**2/237642405000000 + 5138177650373*zeta**3/13534477597265625 + 1090023854137571*2**(2/3)*zeta**4/12451719389484375000 + O(zeta**5)"
      ]
     },
     "metadata": {},
     "output_type": "display_data"
    },
    {
     "data": {
      "text/latex": [
       "$\\displaystyle \\frac{2264850139339}{5095332742500000} + \\frac{940481215440667 \\cdot 2^{\\frac{2}{3}} \\zeta}{3984550204635000000} + O\\left(\\zeta^{2}\\right)$"
      ],
      "text/plain": [
       "2264850139339/5095332742500000 + 940481215440667*2**(2/3)*zeta/3984550204635000000 + O(zeta**2)"
      ]
     },
     "metadata": {},
     "output_type": "display_data"
    }
   ],
   "source": [
    "for d in D:\n",
    "    # display((d.subs(ζ, 2 ** sy.Rational(1, 3) * η)).expand())\n",
    "    display(d)"
   ]
  }
 ],
 "metadata": {
  "kernelspec": {
   "display_name": "Python 3",
   "language": "python",
   "name": "python3"
  },
  "language_info": {
   "codemirror_mode": {
    "name": "ipython",
    "version": 3
   },
   "file_extension": ".py",
   "mimetype": "text/x-python",
   "name": "python",
   "nbconvert_exporter": "python",
   "pygments_lexer": "ipython3",
   "version": "3.9.7"
  }
 },
 "nbformat": 4,
 "nbformat_minor": 4
}
