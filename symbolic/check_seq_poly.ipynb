{
 "cells": [
  {
   "cell_type": "markdown",
   "metadata": {},
   "source": [
    "# Symbolic check for the sequences $\\lambda, \\mu$ and the polynomials $U, V$\n",
    "\n",
    "__Zoïs Moitier__\n",
    "\n",
    "_Karlsruhe Institute of Technology, Germany_\n",
    "\n",
    "---\n",
    "\n",
    "## Imports and varaibles"
   ]
  },
  {
   "cell_type": "code",
   "execution_count": 1,
   "metadata": {},
   "outputs": [],
   "source": [
    "import sympy as sy\n",
    "from IPython.display import display\n",
    "\n",
    "import src"
   ]
  },
  {
   "cell_type": "code",
   "execution_count": 2,
   "metadata": {},
   "outputs": [],
   "source": [
    "p = sy.symbols(\"p\")"
   ]
  },
  {
   "cell_type": "markdown",
   "metadata": {},
   "source": [
    "---\n",
    "\n",
    "## Sequences $u_j$ and $v_j$\n",
    "\n",
    "The sequences $u_j$ and $v_j$ are define by $u_0 = v_0 = 1$ and, for $j \\geq 1$,\n",
    "$$\n",
    "\\begin{align}\n",
    "u_j &= \\frac{(6j-5) (6j-1)}{48 j} u_{j-1},\\\\\n",
    "v_j &= \\frac{6j+1}{1-6j} u_j.\n",
    "\\end{align}\n",
    "$$"
   ]
  },
  {
   "cell_type": "code",
   "execution_count": 3,
   "metadata": {},
   "outputs": [],
   "source": [
    "seq_u, seq_v = src.seq_uv(4)"
   ]
  },
  {
   "cell_type": "code",
   "execution_count": 4,
   "metadata": {},
   "outputs": [
    {
     "name": "stdout",
     "output_type": "stream",
     "text": [
      "Values for u\n"
     ]
    },
    {
     "data": {
      "text/latex": [
       "$\\displaystyle 1$"
      ],
      "text/plain": [
       "1"
      ]
     },
     "metadata": {},
     "output_type": "display_data"
    },
    {
     "name": "stdout",
     "output_type": "stream",
     "text": [
      "1.000000000000000000e+0\n",
      "\n"
     ]
    },
    {
     "data": {
      "text/latex": [
       "$\\displaystyle \\frac{5}{48}$"
      ],
      "text/plain": [
       "5/48"
      ]
     },
     "metadata": {},
     "output_type": "display_data"
    },
    {
     "name": "stdout",
     "output_type": "stream",
     "text": [
      "1.041666666666666670e-1\n",
      "\n"
     ]
    },
    {
     "data": {
      "text/latex": [
       "$\\displaystyle \\frac{385}{4608}$"
      ],
      "text/plain": [
       "385/4608"
      ]
     },
     "metadata": {},
     "output_type": "display_data"
    },
    {
     "name": "stdout",
     "output_type": "stream",
     "text": [
      "8.355034722222222220e-2\n",
      "\n"
     ]
    },
    {
     "data": {
      "text/latex": [
       "$\\displaystyle \\frac{85085}{663552}$"
      ],
      "text/plain": [
       "85085/663552"
      ]
     },
     "metadata": {},
     "output_type": "display_data"
    },
    {
     "name": "stdout",
     "output_type": "stream",
     "text": [
      "1.282265745563271600e-1\n",
      "\n"
     ]
    },
    {
     "data": {
      "text/latex": [
       "$\\displaystyle \\frac{37182145}{127401984}$"
      ],
      "text/plain": [
       "37182145/127401984"
      ]
     },
     "metadata": {},
     "output_type": "display_data"
    },
    {
     "name": "stdout",
     "output_type": "stream",
     "text": [
      "2.918490264641404640e-1\n",
      "\n"
     ]
    }
   ],
   "source": [
    "print(\"Values for u\")\n",
    "for u in seq_u:\n",
    "    display(u)\n",
    "    print(src.num2str(u), end=\"\\n\\n\")"
   ]
  },
  {
   "cell_type": "code",
   "execution_count": 5,
   "metadata": {},
   "outputs": [
    {
     "name": "stdout",
     "output_type": "stream",
     "text": [
      "Values for v\n"
     ]
    },
    {
     "data": {
      "text/latex": [
       "$\\displaystyle 1$"
      ],
      "text/plain": [
       "1"
      ]
     },
     "metadata": {},
     "output_type": "display_data"
    },
    {
     "name": "stdout",
     "output_type": "stream",
     "text": [
      "1.000000000000000000e+0\n",
      "\n"
     ]
    },
    {
     "data": {
      "text/latex": [
       "$\\displaystyle - \\frac{7}{48}$"
      ],
      "text/plain": [
       "-7/48"
      ]
     },
     "metadata": {},
     "output_type": "display_data"
    },
    {
     "name": "stdout",
     "output_type": "stream",
     "text": [
      "-1.458333333333333330e-1\n",
      "\n"
     ]
    },
    {
     "data": {
      "text/latex": [
       "$\\displaystyle - \\frac{455}{4608}$"
      ],
      "text/plain": [
       "-455/4608"
      ]
     },
     "metadata": {},
     "output_type": "display_data"
    },
    {
     "name": "stdout",
     "output_type": "stream",
     "text": [
      "-9.874131944444444440e-2\n",
      "\n"
     ]
    },
    {
     "data": {
      "text/latex": [
       "$\\displaystyle - \\frac{95095}{663552}$"
      ],
      "text/plain": [
       "-95095/663552"
      ]
     },
     "metadata": {},
     "output_type": "display_data"
    },
    {
     "name": "stdout",
     "output_type": "stream",
     "text": [
      "-1.433120539158950620e-1\n",
      "\n"
     ]
    },
    {
     "data": {
      "text/latex": [
       "$\\displaystyle - \\frac{40415375}{127401984}$"
      ],
      "text/plain": [
       "-40415375/127401984"
      ]
     },
     "metadata": {},
     "output_type": "display_data"
    },
    {
     "name": "stdout",
     "output_type": "stream",
     "text": [
      "-3.172272026784135480e-1\n",
      "\n"
     ]
    }
   ],
   "source": [
    "print(\"Values for v\")\n",
    "for v in seq_v:\n",
    "    display(v)\n",
    "    print(src.num2str(v), end=\"\\n\\n\")"
   ]
  },
  {
   "cell_type": "markdown",
   "metadata": {},
   "source": [
    "---\n",
    "\n",
    "## Polynomials $U_j$ and $V_j$\n",
    "\n",
    "The family of polynome $U_j$ and $V_j$ is define by $U_0(p) = V_0(p) = 1$, and for all $j \\geq 1$, we have\n",
    "$$\n",
    "\\begin{align}\n",
    "U_j(p) &= \\frac{1}{2} p^2(1-p^2) U_{j-1}'(p) + \\frac{1}{8} \\int_0^p (1-5t^2) U_{j-1}(t) \\mathrm{d}t,\\\\\n",
    "V_j(p) &= U_j(p) -\\frac{1}{2} p(1-p^2) U_{j-1}(p) - p^2(1-p^2) U_{j-1}'(p).\n",
    "\\end{align}\n",
    "$$"
   ]
  },
  {
   "cell_type": "code",
   "execution_count": 6,
   "metadata": {},
   "outputs": [],
   "source": [
    "U, V = src.seq_poly_UV(4, p)"
   ]
  },
  {
   "cell_type": "code",
   "execution_count": 7,
   "metadata": {},
   "outputs": [
    {
     "data": {
      "text/latex": [
       "$\\displaystyle 1$"
      ],
      "text/plain": [
       "1"
      ]
     },
     "metadata": {},
     "output_type": "display_data"
    },
    {
     "name": "stdout",
     "output_type": "stream",
     "text": [
      "['1.000000000000000000e+0']\n",
      "\n"
     ]
    },
    {
     "data": {
      "text/latex": [
       "$\\displaystyle - \\frac{5 p^{3}}{24} + \\frac{p}{8}$"
      ],
      "text/plain": [
       "-5*p**3/24 + p/8"
      ]
     },
     "metadata": {},
     "output_type": "display_data"
    },
    {
     "name": "stdout",
     "output_type": "stream",
     "text": [
      "['-2.083333333333333330e-1', 0, '1.250000000000000000e-1', 0]\n",
      "\n"
     ]
    },
    {
     "data": {
      "text/latex": [
       "$\\displaystyle \\frac{385 p^{6}}{1152} - \\frac{77 p^{4}}{192} + \\frac{9 p^{2}}{128}$"
      ],
      "text/plain": [
       "385*p**6/1152 - 77*p**4/192 + 9*p**2/128"
      ]
     },
     "metadata": {},
     "output_type": "display_data"
    },
    {
     "name": "stdout",
     "output_type": "stream",
     "text": [
      "['3.342013888888888890e-1', 0, '-4.010416666666666670e-1', 0, '7.031250000000000000e-2', 0, 0]\n",
      "\n"
     ]
    },
    {
     "data": {
      "text/latex": [
       "$\\displaystyle - \\frac{85085 p^{9}}{82944} + \\frac{17017 p^{7}}{9216} - \\frac{4563 p^{5}}{5120} + \\frac{75 p^{3}}{1024}$"
      ],
      "text/plain": [
       "-85085*p**9/82944 + 17017*p**7/9216 - 4563*p**5/5120 + 75*p**3/1024"
      ]
     },
     "metadata": {},
     "output_type": "display_data"
    },
    {
     "name": "stdout",
     "output_type": "stream",
     "text": [
      "['-1.025812596450617280e+0', 0, '1.846462673611111110e+0', 0, '-8.912109375000000000e-1', 0, '7.324218750000000000e-2', 0, 0, 0]\n",
      "\n"
     ]
    },
    {
     "data": {
      "text/latex": [
       "$\\displaystyle \\frac{37182145 p^{12}}{7962624} - \\frac{7436429 p^{10}}{663552} + \\frac{144001 p^{8}}{16384} - \\frac{96833 p^{6}}{40960} + \\frac{3675 p^{4}}{32768}$"
      ],
      "text/plain": [
       "37182145*p**12/7962624 - 7436429*p**10/663552 + 144001*p**8/16384 - 96833*p**6/40960 + 3675*p**4/32768"
      ]
     },
     "metadata": {},
     "output_type": "display_data"
    },
    {
     "name": "stdout",
     "output_type": "stream",
     "text": [
      "['4.669584423426247430e+0', 0, '-1.120700261622299380e+1', 0, '8.789123535156250000e+0', 0, '-2.364086914062500000e+0', 0, '1.121520996093750000e-1', 0, 0, 0, 0]\n",
      "\n"
     ]
    }
   ],
   "source": [
    "for u in U:\n",
    "    display(u.as_expr())\n",
    "    print([src.num2str(c) for c in u.all_coeffs()], end=\"\\n\\n\")"
   ]
  },
  {
   "cell_type": "code",
   "execution_count": 8,
   "metadata": {},
   "outputs": [
    {
     "data": {
      "text/latex": [
       "$\\displaystyle 1$"
      ],
      "text/plain": [
       "1"
      ]
     },
     "metadata": {},
     "output_type": "display_data"
    },
    {
     "name": "stdout",
     "output_type": "stream",
     "text": [
      "['1.000000000000000000e+0']\n",
      "\n"
     ]
    },
    {
     "data": {
      "text/latex": [
       "$\\displaystyle \\frac{7 p^{3}}{24} - \\frac{3 p}{8}$"
      ],
      "text/plain": [
       "7*p**3/24 - 3*p/8"
      ]
     },
     "metadata": {},
     "output_type": "display_data"
    },
    {
     "name": "stdout",
     "output_type": "stream",
     "text": [
      "['2.916666666666666670e-1', 0, '-3.750000000000000000e-1', 0]\n",
      "\n"
     ]
    },
    {
     "data": {
      "text/latex": [
       "$\\displaystyle - \\frac{455 p^{6}}{1152} + \\frac{33 p^{4}}{64} - \\frac{15 p^{2}}{128}$"
      ],
      "text/plain": [
       "-455*p**6/1152 + 33*p**4/64 - 15*p**2/128"
      ]
     },
     "metadata": {},
     "output_type": "display_data"
    },
    {
     "name": "stdout",
     "output_type": "stream",
     "text": [
      "['-3.949652777777777780e-1', 0, '5.156250000000000000e-1', 0, '-1.171875000000000000e-1', 0, 0]\n",
      "\n"
     ]
    },
    {
     "data": {
      "text/latex": [
       "$\\displaystyle \\frac{95095 p^{9}}{82944} - \\frac{6545 p^{7}}{3072} + \\frac{5577 p^{5}}{5120} - \\frac{105 p^{3}}{1024}$"
      ],
      "text/plain": [
       "95095*p**9/82944 - 6545*p**7/3072 + 5577*p**5/5120 - 105*p**3/1024"
      ]
     },
     "metadata": {},
     "output_type": "display_data"
    },
    {
     "name": "stdout",
     "output_type": "stream",
     "text": [
      "['1.146496431327160490e+0', 0, '-2.130533854166666670e+0', 0, '1.089257812500000000e+0', 0, '-1.025390625000000000e-1', 0, 0, 0]\n",
      "\n"
     ]
    },
    {
     "data": {
      "text/latex": [
       "$\\displaystyle - \\frac{40415375 p^{12}}{7962624} + \\frac{2739737 p^{10}}{221184} - \\frac{2448017 p^{8}}{245760} + \\frac{114439 p^{6}}{40960} - \\frac{4725 p^{4}}{32768}$"
      ],
      "text/plain": [
       "-40415375*p**12/7962624 + 2739737*p**10/221184 - 2448017*p**8/245760 + 114439*p**6/40960 - 4725*p**4/32768"
      ]
     },
     "metadata": {},
     "output_type": "display_data"
    },
    {
     "name": "stdout",
     "output_type": "stream",
     "text": [
      "['-5.075635242854616770e+0', 0, '1.238668710214120370e+1', 0, '-9.961006673177083330e+0', 0, '2.793920898437500000e+0', 0, '-1.441955566406250000e-1', 0, 0, 0, 0]\n",
      "\n"
     ]
    }
   ],
   "source": [
    "for v in V:\n",
    "    display(v.as_expr())\n",
    "    print([src.num2str(c) for c in v.all_coeffs()], end=\"\\n\\n\")"
   ]
  }
 ],
 "metadata": {
  "kernelspec": {
   "display_name": "Python 3",
   "language": "python",
   "name": "python3"
  },
  "language_info": {
   "codemirror_mode": {
    "name": "ipython",
    "version": 3
   },
   "file_extension": ".py",
   "mimetype": "text/x-python",
   "name": "python",
   "nbconvert_exporter": "python",
   "pygments_lexer": "ipython3",
   "version": "3.9.7"
  }
 },
 "nbformat": 4,
 "nbformat_minor": 4
}
