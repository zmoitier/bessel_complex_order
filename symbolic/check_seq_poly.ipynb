{
 "cells": [
  {
   "cell_type": "markdown",
   "metadata": {},
   "source": [
    "# Symbolic check for the sequences $\\lambda, \\mu$ and the polynomials $U, V$\n",
    "\n",
    "__Zoïs Moitier__\n",
    "\n",
    "_Karlsruhe Institute of Technology, Germany_\n",
    "\n",
    "---\n",
    "\n",
    "## Imports and varaibles"
   ]
  },
  {
   "cell_type": "code",
   "execution_count": 1,
   "metadata": {},
   "outputs": [],
   "source": [
    "import sympy as sy\n",
    "from IPython.display import display"
   ]
  },
  {
   "cell_type": "code",
   "execution_count": 2,
   "metadata": {},
   "outputs": [],
   "source": [
    "p = sy.symbols(\"p\")"
   ]
  },
  {
   "cell_type": "markdown",
   "metadata": {},
   "source": [
    "---\n",
    "\n",
    "## Sequences $u_j$ and $v_j$\n",
    "\n",
    "The sequences $u_j$ and $v_j$ are define by $u_0 = v_0 = 1$ and, for $j \\geq 1$,\n",
    "$$\n",
    "\\begin{align}\n",
    "u_j &= \\frac{(6j-5) (6j-1)}{48 j} u_{j-1},\\\\\n",
    "v_j &= \\frac{6j+1}{1-6j} u_j.\n",
    "\\end{align}\n",
    "$$"
   ]
  },
  {
   "cell_type": "code",
   "execution_count": 3,
   "metadata": {},
   "outputs": [],
   "source": [
    "def seq_uv(j_max):\n",
    "    u = [sy.S(1)]\n",
    "    v = [sy.S(1)]\n",
    "    for j in range(1, j_max + 1):\n",
    "        u.append((6 * j - 5) * (6 * j - 1) * u[j - 1] / (48 * j))\n",
    "        v.append((6 * j + 1) * u[j] / (1 - 6 * j))\n",
    "    return (u, v)\n",
    "\n",
    "\n",
    "seq_u, seq_v = seq_uv(4)"
   ]
  },
  {
   "cell_type": "code",
   "execution_count": 4,
   "metadata": {},
   "outputs": [
    {
     "name": "stdout",
     "output_type": "stream",
     "text": [
      "Values for u\n"
     ]
    },
    {
     "data": {
      "text/latex": [
       "$\\displaystyle 1$"
      ],
      "text/plain": [
       "1"
      ]
     },
     "metadata": {},
     "output_type": "display_data"
    },
    {
     "name": "stdout",
     "output_type": "stream",
     "text": [
      "1.00000000000000\n",
      "\n"
     ]
    },
    {
     "data": {
      "text/latex": [
       "$\\displaystyle \\frac{5}{48}$"
      ],
      "text/plain": [
       "5/48"
      ]
     },
     "metadata": {},
     "output_type": "display_data"
    },
    {
     "name": "stdout",
     "output_type": "stream",
     "text": [
      "0.104166666666667\n",
      "\n"
     ]
    },
    {
     "data": {
      "text/latex": [
       "$\\displaystyle \\frac{385}{4608}$"
      ],
      "text/plain": [
       "385/4608"
      ]
     },
     "metadata": {},
     "output_type": "display_data"
    },
    {
     "name": "stdout",
     "output_type": "stream",
     "text": [
      "0.0835503472222222\n",
      "\n"
     ]
    },
    {
     "data": {
      "text/latex": [
       "$\\displaystyle \\frac{85085}{663552}$"
      ],
      "text/plain": [
       "85085/663552"
      ]
     },
     "metadata": {},
     "output_type": "display_data"
    },
    {
     "name": "stdout",
     "output_type": "stream",
     "text": [
      "0.128226574556327\n",
      "\n"
     ]
    },
    {
     "data": {
      "text/latex": [
       "$\\displaystyle \\frac{37182145}{127401984}$"
      ],
      "text/plain": [
       "37182145/127401984"
      ]
     },
     "metadata": {},
     "output_type": "display_data"
    },
    {
     "name": "stdout",
     "output_type": "stream",
     "text": [
      "0.291849026464140\n",
      "\n"
     ]
    }
   ],
   "source": [
    "print(\"Values for u\")\n",
    "for u in seq_u:\n",
    "    display(u)\n",
    "    print(sy.N(u), end=\"\\n\\n\")"
   ]
  },
  {
   "cell_type": "code",
   "execution_count": 5,
   "metadata": {},
   "outputs": [
    {
     "name": "stdout",
     "output_type": "stream",
     "text": [
      "Values for v\n"
     ]
    },
    {
     "data": {
      "text/latex": [
       "$\\displaystyle 1$"
      ],
      "text/plain": [
       "1"
      ]
     },
     "metadata": {},
     "output_type": "display_data"
    },
    {
     "name": "stdout",
     "output_type": "stream",
     "text": [
      "1.00000000000000\n",
      "\n"
     ]
    },
    {
     "data": {
      "text/latex": [
       "$\\displaystyle - \\frac{7}{48}$"
      ],
      "text/plain": [
       "-7/48"
      ]
     },
     "metadata": {},
     "output_type": "display_data"
    },
    {
     "name": "stdout",
     "output_type": "stream",
     "text": [
      "-0.145833333333333\n",
      "\n"
     ]
    },
    {
     "data": {
      "text/latex": [
       "$\\displaystyle - \\frac{455}{4608}$"
      ],
      "text/plain": [
       "-455/4608"
      ]
     },
     "metadata": {},
     "output_type": "display_data"
    },
    {
     "name": "stdout",
     "output_type": "stream",
     "text": [
      "-0.0987413194444444\n",
      "\n"
     ]
    },
    {
     "data": {
      "text/latex": [
       "$\\displaystyle - \\frac{95095}{663552}$"
      ],
      "text/plain": [
       "-95095/663552"
      ]
     },
     "metadata": {},
     "output_type": "display_data"
    },
    {
     "name": "stdout",
     "output_type": "stream",
     "text": [
      "-0.143312053915895\n",
      "\n"
     ]
    },
    {
     "data": {
      "text/latex": [
       "$\\displaystyle - \\frac{40415375}{127401984}$"
      ],
      "text/plain": [
       "-40415375/127401984"
      ]
     },
     "metadata": {},
     "output_type": "display_data"
    },
    {
     "name": "stdout",
     "output_type": "stream",
     "text": [
      "-0.317227202678414\n",
      "\n"
     ]
    }
   ],
   "source": [
    "print(\"Values for v\")\n",
    "for v in seq_v:\n",
    "    display(v)\n",
    "    print(sy.N(v), end=\"\\n\\n\")"
   ]
  },
  {
   "cell_type": "markdown",
   "metadata": {},
   "source": [
    "---\n",
    "\n",
    "## Polynomials $U_j$ and $V_j$\n",
    "\n",
    "The family of polynome $U_j$ and $V_j$ is define by $U_0(p) = V_0(p) = 1$, and for all $j \\geq 1$, we have\n",
    "$$\n",
    "\\begin{align}\n",
    "U_j(p) &= \\frac{1}{2} p^2(1-p^2) U_{j-1}'(p) + \\frac{1}{8} \\int_0^p (1-5t^2) U_{j-1}(t) \\mathrm{d}t,\\\\\n",
    "V_j(p) &= U_j(p) -\\frac{1}{2} p(1-p^2) U_{j-1}(p) - p^2(1-p^2) U_{j-1}'(p).\n",
    "\\end{align}\n",
    "$$"
   ]
  },
  {
   "cell_type": "code",
   "execution_count": 6,
   "metadata": {},
   "outputs": [],
   "source": [
    "def poly_U(j_max):\n",
    "    U = [sy.Poly(1, p, domain=\"QQ\")]\n",
    "    D = sy.Poly(p**2 * (1 - p**2) / 2, p)\n",
    "    I = sy.Poly((1 - 5 * p**2) / 8, p)\n",
    "    for j in range(1, j_max + 1):\n",
    "        tmp = D * U[j - 1].diff() + (I * U[j - 1]).integrate()\n",
    "        U.append(tmp)\n",
    "    return U"
   ]
  },
  {
   "cell_type": "code",
   "execution_count": 7,
   "metadata": {},
   "outputs": [],
   "source": [
    "def poly_V(j_max):\n",
    "    U = poly_U(j_max)\n",
    "    V = [sy.Poly(1, p, domain=\"QQ\")]\n",
    "    D0 = sy.Poly(p * (1 - p**2) / 2, p)\n",
    "    D1 = sy.Poly(p**2 * (1 - p**2), p)\n",
    "    for j in range(1, j_max + 1):\n",
    "        V.append(U[j] - D0 * U[j - 1] - D1 * U[j - 1].diff())\n",
    "    return V"
   ]
  },
  {
   "cell_type": "code",
   "execution_count": 8,
   "metadata": {},
   "outputs": [],
   "source": [
    "j_max = 4\n",
    "U = poly_U(j_max)\n",
    "V = poly_V(j_max)"
   ]
  },
  {
   "cell_type": "code",
   "execution_count": 9,
   "metadata": {},
   "outputs": [
    {
     "data": {
      "text/latex": [
       "$\\displaystyle 1$"
      ],
      "text/plain": [
       "1"
      ]
     },
     "metadata": {},
     "output_type": "display_data"
    },
    {
     "name": "stdout",
     "output_type": "stream",
     "text": [
      "[1]\n",
      "\n"
     ]
    },
    {
     "data": {
      "text/latex": [
       "$\\displaystyle - \\frac{5 p^{3}}{24} + \\frac{p}{8}$"
      ],
      "text/plain": [
       "-5*p**3/24 + p/8"
      ]
     },
     "metadata": {},
     "output_type": "display_data"
    },
    {
     "name": "stdout",
     "output_type": "stream",
     "text": [
      "[-5/24, 0, 1/8, 0]\n",
      "\n"
     ]
    },
    {
     "data": {
      "text/latex": [
       "$\\displaystyle \\frac{385 p^{6}}{1152} - \\frac{77 p^{4}}{192} + \\frac{9 p^{2}}{128}$"
      ],
      "text/plain": [
       "385*p**6/1152 - 77*p**4/192 + 9*p**2/128"
      ]
     },
     "metadata": {},
     "output_type": "display_data"
    },
    {
     "name": "stdout",
     "output_type": "stream",
     "text": [
      "[385/1152, 0, -77/192, 0, 9/128, 0, 0]\n",
      "\n"
     ]
    },
    {
     "data": {
      "text/latex": [
       "$\\displaystyle - \\frac{85085 p^{9}}{82944} + \\frac{17017 p^{7}}{9216} - \\frac{4563 p^{5}}{5120} + \\frac{75 p^{3}}{1024}$"
      ],
      "text/plain": [
       "-85085*p**9/82944 + 17017*p**7/9216 - 4563*p**5/5120 + 75*p**3/1024"
      ]
     },
     "metadata": {},
     "output_type": "display_data"
    },
    {
     "name": "stdout",
     "output_type": "stream",
     "text": [
      "[-85085/82944, 0, 17017/9216, 0, -4563/5120, 0, 75/1024, 0, 0, 0]\n",
      "\n"
     ]
    },
    {
     "data": {
      "text/latex": [
       "$\\displaystyle \\frac{37182145 p^{12}}{7962624} - \\frac{7436429 p^{10}}{663552} + \\frac{144001 p^{8}}{16384} - \\frac{96833 p^{6}}{40960} + \\frac{3675 p^{4}}{32768}$"
      ],
      "text/plain": [
       "37182145*p**12/7962624 - 7436429*p**10/663552 + 144001*p**8/16384 - 96833*p**6/40960 + 3675*p**4/32768"
      ]
     },
     "metadata": {},
     "output_type": "display_data"
    },
    {
     "name": "stdout",
     "output_type": "stream",
     "text": [
      "[37182145/7962624, 0, -7436429/663552, 0, 144001/16384, 0, -96833/40960, 0, 3675/32768, 0, 0, 0, 0]\n",
      "\n"
     ]
    }
   ],
   "source": [
    "for u in U:\n",
    "    display(u.as_expr())\n",
    "    print([c for c in u.all_coeffs()], end=\"\\n\\n\")"
   ]
  },
  {
   "cell_type": "code",
   "execution_count": 10,
   "metadata": {},
   "outputs": [
    {
     "data": {
      "text/latex": [
       "$\\displaystyle 1$"
      ],
      "text/plain": [
       "1"
      ]
     },
     "metadata": {},
     "output_type": "display_data"
    },
    {
     "name": "stdout",
     "output_type": "stream",
     "text": [
      "[1.00000000000000]\n",
      "\n"
     ]
    },
    {
     "data": {
      "text/latex": [
       "$\\displaystyle \\frac{7 p^{3}}{24} - \\frac{3 p}{8}$"
      ],
      "text/plain": [
       "7*p**3/24 - 3*p/8"
      ]
     },
     "metadata": {},
     "output_type": "display_data"
    },
    {
     "name": "stdout",
     "output_type": "stream",
     "text": [
      "[0.291666666666667, 0, -0.375000000000000, 0]\n",
      "\n"
     ]
    },
    {
     "data": {
      "text/latex": [
       "$\\displaystyle - \\frac{455 p^{6}}{1152} + \\frac{33 p^{4}}{64} - \\frac{15 p^{2}}{128}$"
      ],
      "text/plain": [
       "-455*p**6/1152 + 33*p**4/64 - 15*p**2/128"
      ]
     },
     "metadata": {},
     "output_type": "display_data"
    },
    {
     "name": "stdout",
     "output_type": "stream",
     "text": [
      "[-0.394965277777778, 0, 0.515625000000000, 0, -0.117187500000000, 0, 0]\n",
      "\n"
     ]
    },
    {
     "data": {
      "text/latex": [
       "$\\displaystyle \\frac{95095 p^{9}}{82944} - \\frac{6545 p^{7}}{3072} + \\frac{5577 p^{5}}{5120} - \\frac{105 p^{3}}{1024}$"
      ],
      "text/plain": [
       "95095*p**9/82944 - 6545*p**7/3072 + 5577*p**5/5120 - 105*p**3/1024"
      ]
     },
     "metadata": {},
     "output_type": "display_data"
    },
    {
     "name": "stdout",
     "output_type": "stream",
     "text": [
      "[1.14649643132716, 0, -2.13053385416667, 0, 1.08925781250000, 0, -0.102539062500000, 0, 0, 0]\n",
      "\n"
     ]
    },
    {
     "data": {
      "text/latex": [
       "$\\displaystyle - \\frac{40415375 p^{12}}{7962624} + \\frac{2739737 p^{10}}{221184} - \\frac{2448017 p^{8}}{245760} + \\frac{114439 p^{6}}{40960} - \\frac{4725 p^{4}}{32768}$"
      ],
      "text/plain": [
       "-40415375*p**12/7962624 + 2739737*p**10/221184 - 2448017*p**8/245760 + 114439*p**6/40960 - 4725*p**4/32768"
      ]
     },
     "metadata": {},
     "output_type": "display_data"
    },
    {
     "name": "stdout",
     "output_type": "stream",
     "text": [
      "[-5.07563524285462, 0, 12.3866871021412, 0, -9.96100667317708, 0, 2.79392089843750, 0, -0.144195556640625, 0, 0, 0, 0]\n",
      "\n"
     ]
    }
   ],
   "source": [
    "for v in V:\n",
    "    display(v.as_expr())\n",
    "    print([sy.N(c) for c in v.all_coeffs()], end=\"\\n\\n\")"
   ]
  }
 ],
 "metadata": {
  "kernelspec": {
   "display_name": "Python 3",
   "language": "python",
   "name": "python3"
  },
  "language_info": {
   "codemirror_mode": {
    "name": "ipython",
    "version": 3
   },
   "file_extension": ".py",
   "mimetype": "text/x-python",
   "name": "python",
   "nbconvert_exporter": "python",
   "pygments_lexer": "ipython3",
   "version": "3.9.7"
  }
 },
 "nbformat": 4,
 "nbformat_minor": 4
}
