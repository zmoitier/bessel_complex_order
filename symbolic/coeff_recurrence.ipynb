{
 "cells": [
  {
   "cell_type": "markdown",
   "metadata": {},
   "source": [
    "# Coefficients recurrence\n",
    "\n",
    "__Zoïs Moitier__\n",
    "\n",
    "_Karlsruhe Institute of Technology, Germany_\n",
    "\n",
    "---\n",
    "\n",
    "## Internals"
   ]
  },
  {
   "cell_type": "code",
   "execution_count": 1,
   "metadata": {},
   "outputs": [],
   "source": [
    "import sympy as sy\n",
    "from IPython.display import display"
   ]
  },
  {
   "cell_type": "code",
   "execution_count": 2,
   "metadata": {},
   "outputs": [],
   "source": [
    "z = sy.symbols(\"z\")\n",
    "ν = sy.symbols(r\"\\nu\", cls=sy.Idx)"
   ]
  },
  {
   "cell_type": "code",
   "execution_count": 11,
   "metadata": {},
   "outputs": [],
   "source": [
    "𝒞 = sy.IndexedBase(r\"\\mathscr{C}\", function=True)"
   ]
  },
  {
   "cell_type": "code",
   "execution_count": 15,
   "metadata": {},
   "outputs": [],
   "source": [
    "def incr(ν):\n",
    "    return [(𝒞[ν], 2 * (ν + 1) * 𝒞[ν + 1] / z - 𝒞[ν + 2])]"
   ]
  },
  {
   "cell_type": "code",
   "execution_count": 32,
   "metadata": {},
   "outputs": [
    {
     "data": {
      "text/latex": [
       "$\\displaystyle \\frac{2 \\nu + 2}{z}$"
      ],
      "text/plain": [
       "(2*\\nu + 2)/z"
      ]
     },
     "metadata": {},
     "output_type": "display_data"
    },
    {
     "data": {
      "text/latex": [
       "$\\displaystyle -1$"
      ],
      "text/plain": [
       "-1"
      ]
     },
     "metadata": {},
     "output_type": "display_data"
    },
    {
     "name": "stdout",
     "output_type": "stream",
     "text": [
      "\n"
     ]
    },
    {
     "data": {
      "text/latex": [
       "$\\displaystyle -1 + \\frac{4 \\nu^{2} + 12 \\nu + 8}{z^{2}}$"
      ],
      "text/plain": [
       "-1 + (4*\\nu**2 + 12*\\nu + 8)/z**2"
      ]
     },
     "metadata": {},
     "output_type": "display_data"
    },
    {
     "data": {
      "text/latex": [
       "$\\displaystyle \\frac{- 2 \\nu - 2}{z}$"
      ],
      "text/plain": [
       "(-2*\\nu - 2)/z"
      ]
     },
     "metadata": {},
     "output_type": "display_data"
    },
    {
     "name": "stdout",
     "output_type": "stream",
     "text": [
      "\n"
     ]
    },
    {
     "data": {
      "text/latex": [
       "$\\displaystyle \\frac{- 4 \\nu - 8}{z} + \\frac{8 \\nu^{3} + 48 \\nu^{2} + 88 \\nu + 48}{z^{3}}$"
      ],
      "text/plain": [
       "(-4*\\nu - 8)/z + (8*\\nu**3 + 48*\\nu**2 + 88*\\nu + 48)/z**3"
      ]
     },
     "metadata": {},
     "output_type": "display_data"
    },
    {
     "data": {
      "text/latex": [
       "$\\displaystyle 1 + \\frac{- 4 \\nu^{2} - 12 \\nu - 8}{z^{2}}$"
      ],
      "text/plain": [
       "1 + (-4*\\nu**2 - 12*\\nu - 8)/z**2"
      ]
     },
     "metadata": {},
     "output_type": "display_data"
    },
    {
     "name": "stdout",
     "output_type": "stream",
     "text": [
      "\n"
     ]
    },
    {
     "data": {
      "text/latex": [
       "$\\displaystyle 1 + \\frac{- 12 \\nu^{2} - 60 \\nu - 72}{z^{2}} + \\frac{16 \\nu^{4} + 160 \\nu^{3} + 560 \\nu^{2} + 800 \\nu + 384}{z^{4}}$"
      ],
      "text/plain": [
       "1 + (-12*\\nu**2 - 60*\\nu - 72)/z**2 + (16*\\nu**4 + 160*\\nu**3 + 560*\\nu**2 + 800*\\nu + 384)/z**4"
      ]
     },
     "metadata": {},
     "output_type": "display_data"
    },
    {
     "data": {
      "text/latex": [
       "$\\displaystyle \\frac{4 \\nu + 8}{z} + \\frac{- 8 \\nu^{3} - 48 \\nu^{2} - 88 \\nu - 48}{z^{3}}$"
      ],
      "text/plain": [
       "(4*\\nu + 8)/z + (-8*\\nu**3 - 48*\\nu**2 - 88*\\nu - 48)/z**3"
      ]
     },
     "metadata": {},
     "output_type": "display_data"
    },
    {
     "name": "stdout",
     "output_type": "stream",
     "text": [
      "\n"
     ]
    },
    {
     "data": {
      "text/latex": [
       "$\\displaystyle \\frac{6 \\nu + 18}{z} + \\frac{- 32 \\nu^{3} - 288 \\nu^{2} - 832 \\nu - 768}{z^{3}} + \\frac{32 \\nu^{5} + 480 \\nu^{4} + 2720 \\nu^{3} + 7200 \\nu^{2} + 8768 \\nu + 3840}{z^{5}}$"
      ],
      "text/plain": [
       "(6*\\nu + 18)/z + (-32*\\nu**3 - 288*\\nu**2 - 832*\\nu - 768)/z**3 + (32*\\nu**5 + 480*\\nu**4 + 2720*\\nu**3 + 7200*\\nu**2 + 8768*\\nu + 3840)/z**5"
      ]
     },
     "metadata": {},
     "output_type": "display_data"
    },
    {
     "data": {
      "text/latex": [
       "$\\displaystyle -1 + \\frac{12 \\nu^{2} + 60 \\nu + 72}{z^{2}} + \\frac{- 16 \\nu^{4} - 160 \\nu^{3} - 560 \\nu^{2} - 800 \\nu - 384}{z^{4}}$"
      ],
      "text/plain": [
       "-1 + (12*\\nu**2 + 60*\\nu + 72)/z**2 + (-16*\\nu**4 - 160*\\nu**3 - 560*\\nu**2 - 800*\\nu - 384)/z**4"
      ]
     },
     "metadata": {},
     "output_type": "display_data"
    },
    {
     "name": "stdout",
     "output_type": "stream",
     "text": [
      "\n"
     ]
    },
    {
     "data": {
      "text/latex": [
       "$\\displaystyle -1 + \\frac{24 \\nu^{2} + 168 \\nu + 288}{z^{2}} + \\frac{- 80 \\nu^{4} - 1120 \\nu^{3} - 5680 \\nu^{2} - 12320 \\nu - 9600}{z^{4}} + \\frac{64 \\nu^{6} + 1344 \\nu^{5} + 11200 \\nu^{4} + 47040 \\nu^{3} + 103936 \\nu^{2} + 112896 \\nu + 46080}{z^{6}}$"
      ],
      "text/plain": [
       "-1 + (24*\\nu**2 + 168*\\nu + 288)/z**2 + (-80*\\nu**4 - 1120*\\nu**3 - 5680*\\nu**2 - 12320*\\nu - 9600)/z**4 + (64*\\nu**6 + 1344*\\nu**5 + 11200*\\nu**4 + 47040*\\nu**3 + 103936*\\nu**2 + 112896*\\nu + 46080)/z**6"
      ]
     },
     "metadata": {},
     "output_type": "display_data"
    },
    {
     "data": {
      "text/latex": [
       "$\\displaystyle \\frac{- 6 \\nu - 18}{z} + \\frac{32 \\nu^{3} + 288 \\nu^{2} + 832 \\nu + 768}{z^{3}} + \\frac{- 32 \\nu^{5} - 480 \\nu^{4} - 2720 \\nu^{3} - 7200 \\nu^{2} - 8768 \\nu - 3840}{z^{5}}$"
      ],
      "text/plain": [
       "(-6*\\nu - 18)/z + (32*\\nu**3 + 288*\\nu**2 + 832*\\nu + 768)/z**3 + (-32*\\nu**5 - 480*\\nu**4 - 2720*\\nu**3 - 7200*\\nu**2 - 8768*\\nu - 3840)/z**5"
      ]
     },
     "metadata": {},
     "output_type": "display_data"
    },
    {
     "name": "stdout",
     "output_type": "stream",
     "text": [
      "\n"
     ]
    },
    {
     "data": {
      "text/latex": [
       "$\\displaystyle \\frac{- 8 \\nu - 32}{z} + \\frac{80 \\nu^{3} + 960 \\nu^{2} + 3760 \\nu + 4800}{z^{3}} + \\frac{- 192 \\nu^{5} - 3840 \\nu^{4} - 29760 \\nu^{3} - 111360 \\nu^{2} - 200448 \\nu - 138240}{z^{5}} + \\frac{128 \\nu^{7} + 3584 \\nu^{6} + 41216 \\nu^{5} + 250880 \\nu^{4} + 866432 \\nu^{3} + 1680896 \\nu^{2} + 1672704 \\nu + 645120}{z^{7}}$"
      ],
      "text/plain": [
       "(-8*\\nu - 32)/z + (80*\\nu**3 + 960*\\nu**2 + 3760*\\nu + 4800)/z**3 + (-192*\\nu**5 - 3840*\\nu**4 - 29760*\\nu**3 - 111360*\\nu**2 - 200448*\\nu - 138240)/z**5 + (128*\\nu**7 + 3584*\\nu**6 + 41216*\\nu**5 + 250880*\\nu**4 + 866432*\\nu**3 + 1680896*\\nu**2 + 1672704*\\nu + 645120)/z**7"
      ]
     },
     "metadata": {},
     "output_type": "display_data"
    },
    {
     "data": {
      "text/latex": [
       "$\\displaystyle 1 + \\frac{- 24 \\nu^{2} - 168 \\nu - 288}{z^{2}} + \\frac{80 \\nu^{4} + 1120 \\nu^{3} + 5680 \\nu^{2} + 12320 \\nu + 9600}{z^{4}} + \\frac{- 64 \\nu^{6} - 1344 \\nu^{5} - 11200 \\nu^{4} - 47040 \\nu^{3} - 103936 \\nu^{2} - 112896 \\nu - 46080}{z^{6}}$"
      ],
      "text/plain": [
       "1 + (-24*\\nu**2 - 168*\\nu - 288)/z**2 + (80*\\nu**4 + 1120*\\nu**3 + 5680*\\nu**2 + 12320*\\nu + 9600)/z**4 + (-64*\\nu**6 - 1344*\\nu**5 - 11200*\\nu**4 - 47040*\\nu**3 - 103936*\\nu**2 - 112896*\\nu - 46080)/z**6"
      ]
     },
     "metadata": {},
     "output_type": "display_data"
    },
    {
     "name": "stdout",
     "output_type": "stream",
     "text": [
      "\n"
     ]
    },
    {
     "data": {
      "text/latex": [
       "$\\displaystyle 1 + \\frac{- 40 \\nu^{2} - 360 \\nu - 800}{z^{2}} + \\frac{240 \\nu^{4} + 4320 \\nu^{3} + 28560 \\nu^{2} + 82080 \\nu + 86400}{z^{4}} + \\frac{- 448 \\nu^{6} - 12096 \\nu^{5} - 132160 \\nu^{4} - 745920 \\nu^{3} - 2286592 \\nu^{2} - 3596544 \\nu - 2257920}{z^{6}} + \\frac{256 \\nu^{8} + 9216 \\nu^{7} + 139776 \\nu^{6} + 1161216 \\nu^{5} + 5746944 \\nu^{4} + 17224704 \\nu^{3} + 30239744 \\nu^{2} + 28053504 \\nu + 10321920}{z^{8}}$"
      ],
      "text/plain": [
       "1 + (-40*\\nu**2 - 360*\\nu - 800)/z**2 + (240*\\nu**4 + 4320*\\nu**3 + 28560*\\nu**2 + 82080*\\nu + 86400)/z**4 + (-448*\\nu**6 - 12096*\\nu**5 - 132160*\\nu**4 - 745920*\\nu**3 - 2286592*\\nu**2 - 3596544*\\nu - 2257920)/z**6 + (256*\\nu**8 + 9216*\\nu**7 + 139776*\\nu**6 + 1161216*\\nu**5 + 5746944*\\nu**4 + 17224704*\\nu**3 + 30239744*\\nu**2 + 28053504*\\nu + 10321920)/z**8"
      ]
     },
     "metadata": {},
     "output_type": "display_data"
    },
    {
     "data": {
      "text/latex": [
       "$\\displaystyle \\frac{8 \\nu + 32}{z} + \\frac{- 80 \\nu^{3} - 960 \\nu^{2} - 3760 \\nu - 4800}{z^{3}} + \\frac{192 \\nu^{5} + 3840 \\nu^{4} + 29760 \\nu^{3} + 111360 \\nu^{2} + 200448 \\nu + 138240}{z^{5}} + \\frac{- 128 \\nu^{7} - 3584 \\nu^{6} - 41216 \\nu^{5} - 250880 \\nu^{4} - 866432 \\nu^{3} - 1680896 \\nu^{2} - 1672704 \\nu - 645120}{z^{7}}$"
      ],
      "text/plain": [
       "(8*\\nu + 32)/z + (-80*\\nu**3 - 960*\\nu**2 - 3760*\\nu - 4800)/z**3 + (192*\\nu**5 + 3840*\\nu**4 + 29760*\\nu**3 + 111360*\\nu**2 + 200448*\\nu + 138240)/z**5 + (-128*\\nu**7 - 3584*\\nu**6 - 41216*\\nu**5 - 250880*\\nu**4 - 866432*\\nu**3 - 1680896*\\nu**2 - 1672704*\\nu - 645120)/z**7"
      ]
     },
     "metadata": {},
     "output_type": "display_data"
    },
    {
     "name": "stdout",
     "output_type": "stream",
     "text": [
      "\n"
     ]
    },
    {
     "data": {
      "text/latex": [
       "$\\displaystyle \\frac{10 \\nu + 50}{z} + \\frac{- 160 \\nu^{3} - 2400 \\nu^{2} - 11840 \\nu - 19200}{z^{3}} + \\frac{672 \\nu^{5} + 16800 \\nu^{4} + 164640 \\nu^{3} + 789600 \\nu^{2} + 1850688 \\nu + 1693440}{z^{5}} + \\frac{- 1024 \\nu^{7} - 35840 \\nu^{6} - 523264 \\nu^{5} - 4121600 \\nu^{4} - 18866176 \\nu^{3} - 50032640 \\nu^{2} - 70926336 \\nu - 41287680}{z^{7}} + \\frac{512 \\nu^{9} + 23040 \\nu^{8} + 445440 \\nu^{7} + 4838400 \\nu^{6} + 32395776 \\nu^{5} + 137894400 \\nu^{4} + 370524160 \\nu^{3} + 600422400 \\nu^{2} + 525606912 \\nu + 185794560}{z^{9}}$"
      ],
      "text/plain": [
       "(10*\\nu + 50)/z + (-160*\\nu**3 - 2400*\\nu**2 - 11840*\\nu - 19200)/z**3 + (672*\\nu**5 + 16800*\\nu**4 + 164640*\\nu**3 + 789600*\\nu**2 + 1850688*\\nu + 1693440)/z**5 + (-1024*\\nu**7 - 35840*\\nu**6 - 523264*\\nu**5 - 4121600*\\nu**4 - 18866176*\\nu**3 - 50032640*\\nu**2 - 70926336*\\nu - 41287680)/z**7 + (512*\\nu**9 + 23040*\\nu**8 + 445440*\\nu**7 + 4838400*\\nu**6 + 32395776*\\nu**5 + 137894400*\\nu**4 + 370524160*\\nu**3 + 600422400*\\nu**2 + 525606912*\\nu + 185794560)/z**9"
      ]
     },
     "metadata": {},
     "output_type": "display_data"
    },
    {
     "data": {
      "text/latex": [
       "$\\displaystyle -1 + \\frac{40 \\nu^{2} + 360 \\nu + 800}{z^{2}} + \\frac{- 240 \\nu^{4} - 4320 \\nu^{3} - 28560 \\nu^{2} - 82080 \\nu - 86400}{z^{4}} + \\frac{448 \\nu^{6} + 12096 \\nu^{5} + 132160 \\nu^{4} + 745920 \\nu^{3} + 2286592 \\nu^{2} + 3596544 \\nu + 2257920}{z^{6}} + \\frac{- 256 \\nu^{8} - 9216 \\nu^{7} - 139776 \\nu^{6} - 1161216 \\nu^{5} - 5746944 \\nu^{4} - 17224704 \\nu^{3} - 30239744 \\nu^{2} - 28053504 \\nu - 10321920}{z^{8}}$"
      ],
      "text/plain": [
       "-1 + (40*\\nu**2 + 360*\\nu + 800)/z**2 + (-240*\\nu**4 - 4320*\\nu**3 - 28560*\\nu**2 - 82080*\\nu - 86400)/z**4 + (448*\\nu**6 + 12096*\\nu**5 + 132160*\\nu**4 + 745920*\\nu**3 + 2286592*\\nu**2 + 3596544*\\nu + 2257920)/z**6 + (-256*\\nu**8 - 9216*\\nu**7 - 139776*\\nu**6 - 1161216*\\nu**5 - 5746944*\\nu**4 - 17224704*\\nu**3 - 30239744*\\nu**2 - 28053504*\\nu - 10321920)/z**8"
      ]
     },
     "metadata": {},
     "output_type": "display_data"
    },
    {
     "name": "stdout",
     "output_type": "stream",
     "text": [
      "\n"
     ]
    },
    {
     "data": {
      "text/latex": [
       "$\\displaystyle -1 + \\frac{60 \\nu^{2} + 660 \\nu + 1800}{z^{2}} + \\frac{- 560 \\nu^{4} - 12320 \\nu^{3} - 100240 \\nu^{2} - 357280 \\nu - 470400}{z^{4}} + \\frac{1792 \\nu^{6} + 59136 \\nu^{5} + 797440 \\nu^{4} + 5617920 \\nu^{3} + 21779968 \\nu^{2} + 43997184 \\nu + 36126720}{z^{6}} + \\frac{- 2304 \\nu^{8} - 101376 \\nu^{7} - 1903104 \\nu^{6} - 19869696 \\nu^{5} - 125911296 \\nu^{4} - 494613504 \\nu^{3} - 1172745216 \\nu^{2} - 1529155584 \\nu - 836075520}{z^{8}} + \\frac{1024 \\nu^{10} + 56320 \\nu^{9} + 1351680 \\nu^{8} + 18585600 \\nu^{7} + 161559552 \\nu^{6} + 923704320 \\nu^{5} + 3498936320 \\nu^{4} + 8611328000 \\nu^{3} + 13059661824 \\nu^{2} + 10883727360 \\nu + 3715891200}{z^{10}}$"
      ],
      "text/plain": [
       "-1 + (60*\\nu**2 + 660*\\nu + 1800)/z**2 + (-560*\\nu**4 - 12320*\\nu**3 - 100240*\\nu**2 - 357280*\\nu - 470400)/z**4 + (1792*\\nu**6 + 59136*\\nu**5 + 797440*\\nu**4 + 5617920*\\nu**3 + 21779968*\\nu**2 + 43997184*\\nu + 36126720)/z**6 + (-2304*\\nu**8 - 101376*\\nu**7 - 1903104*\\nu**6 - 19869696*\\nu**5 - 125911296*\\nu**4 - 494613504*\\nu**3 - 1172745216*\\nu**2 - 1529155584*\\nu - 836075520)/z**8 + (1024*\\nu**10 + 56320*\\nu**9 + 1351680*\\nu**8 + 18585600*\\nu**7 + 161559552*\\nu**6 + 923704320*\\nu**5 + 3498936320*\\nu**4 + 8611328000*\\nu**3 + 13059661824*\\nu**2 + 10883727360*\\nu + 3715891200)/z**10"
      ]
     },
     "metadata": {},
     "output_type": "display_data"
    },
    {
     "data": {
      "text/latex": [
       "$\\displaystyle \\frac{- 10 \\nu - 50}{z} + \\frac{160 \\nu^{3} + 2400 \\nu^{2} + 11840 \\nu + 19200}{z^{3}} + \\frac{- 672 \\nu^{5} - 16800 \\nu^{4} - 164640 \\nu^{3} - 789600 \\nu^{2} - 1850688 \\nu - 1693440}{z^{5}} + \\frac{1024 \\nu^{7} + 35840 \\nu^{6} + 523264 \\nu^{5} + 4121600 \\nu^{4} + 18866176 \\nu^{3} + 50032640 \\nu^{2} + 70926336 \\nu + 41287680}{z^{7}} + \\frac{- 512 \\nu^{9} - 23040 \\nu^{8} - 445440 \\nu^{7} - 4838400 \\nu^{6} - 32395776 \\nu^{5} - 137894400 \\nu^{4} - 370524160 \\nu^{3} - 600422400 \\nu^{2} - 525606912 \\nu - 185794560}{z^{9}}$"
      ],
      "text/plain": [
       "(-10*\\nu - 50)/z + (160*\\nu**3 + 2400*\\nu**2 + 11840*\\nu + 19200)/z**3 + (-672*\\nu**5 - 16800*\\nu**4 - 164640*\\nu**3 - 789600*\\nu**2 - 1850688*\\nu - 1693440)/z**5 + (1024*\\nu**7 + 35840*\\nu**6 + 523264*\\nu**5 + 4121600*\\nu**4 + 18866176*\\nu**3 + 50032640*\\nu**2 + 70926336*\\nu + 41287680)/z**7 + (-512*\\nu**9 - 23040*\\nu**8 - 445440*\\nu**7 - 4838400*\\nu**6 - 32395776*\\nu**5 - 137894400*\\nu**4 - 370524160*\\nu**3 - 600422400*\\nu**2 - 525606912*\\nu - 185794560)/z**9"
      ]
     },
     "metadata": {},
     "output_type": "display_data"
    },
    {
     "name": "stdout",
     "output_type": "stream",
     "text": [
      "\n"
     ]
    }
   ],
   "source": [
    "expr = 𝒞[ν]\n",
    "for i in range(10):\n",
    "    expr = expr.subs(incr(ν + i)).expand()\n",
    "    display(expr.coeff(𝒞[ν + i + 1]).collect(z))\n",
    "    display(expr.coeff(𝒞[ν + i + 2]).collect(z))\n",
    "    print()"
   ]
  },
  {
   "cell_type": "code",
   "execution_count": null,
   "metadata": {},
   "outputs": [],
   "source": []
  }
 ],
 "metadata": {
  "kernelspec": {
   "display_name": "Python 3",
   "language": "python",
   "name": "python3"
  },
  "language_info": {
   "codemirror_mode": {
    "name": "ipython",
    "version": 3
   },
   "file_extension": ".py",
   "mimetype": "text/x-python",
   "name": "python",
   "nbconvert_exporter": "python",
   "pygments_lexer": "ipython3",
   "version": "3.9.7"
  }
 },
 "nbformat": 4,
 "nbformat_minor": 4
}
