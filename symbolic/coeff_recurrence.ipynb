{
 "cells": [
  {
   "cell_type": "markdown",
   "metadata": {},
   "source": [
    "# Coefficients recurrence\n",
    "\n",
    "__Zoïs Moitier__\n",
    "\n",
    "_Karlsruhe Institute of Technology, Germany_\n",
    "\n",
    "---\n",
    "\n",
    "## Internals"
   ]
  },
  {
   "cell_type": "code",
   "execution_count": 1,
   "metadata": {},
   "outputs": [],
   "source": [
    "import sympy as sy\n",
    "from IPython.display import display"
   ]
  },
  {
   "cell_type": "code",
   "execution_count": 2,
   "metadata": {},
   "outputs": [],
   "source": [
    "z = sy.symbols(\"z\")\n",
    "ν = sy.symbols(r\"\\nu\", cls=sy.Idx)"
   ]
  },
  {
   "cell_type": "code",
   "execution_count": 3,
   "metadata": {},
   "outputs": [],
   "source": [
    "𝒞 = sy.IndexedBase(r\"\\mathscr{C}\", function=True)"
   ]
  },
  {
   "cell_type": "code",
   "execution_count": 4,
   "metadata": {},
   "outputs": [],
   "source": [
    "def incr(ν):\n",
    "    return [(𝒞[ν], (ν + 1) * 𝒞[ν + 1] / z - 𝒞[ν + 2])]"
   ]
  },
  {
   "cell_type": "code",
   "execution_count": 5,
   "metadata": {},
   "outputs": [],
   "source": [
    "def factor_by_add(expr):\n",
    "    \"\"\"Simplify expr by add.\"\"\"\n",
    "    if expr.func == sy.Add:\n",
    "        return sum([term.factor() for term in expr.args])\n",
    "    return expr.factor()"
   ]
  },
  {
   "cell_type": "code",
   "execution_count": 8,
   "metadata": {},
   "outputs": [
    {
     "data": {
      "text/latex": [
       "$\\displaystyle {\\mathscr{C}}_{\\nu}$"
      ],
      "text/plain": [
       "\\mathscr{C}[\\nu]"
      ]
     },
     "metadata": {},
     "output_type": "display_data"
    },
    {
     "data": {
      "text/latex": [
       "$\\displaystyle \\frac{\\left(\\nu + 1\\right) {\\mathscr{C}}_{\\nu + 1}}{z}$"
      ],
      "text/plain": [
       "(\\nu + 1)*\\mathscr{C}[\\nu + 1]/z"
      ]
     },
     "metadata": {},
     "output_type": "display_data"
    },
    {
     "data": {
      "text/latex": [
       "$\\displaystyle \\left(- \\frac{2 \\left(\\nu + 2\\right)}{z} + \\frac{\\left(\\nu + 1\\right) \\left(\\nu + 2\\right) \\left(\\nu + 3\\right)}{z^{3}}\\right) {\\mathscr{C}}_{\\nu + 3}$"
      ],
      "text/plain": [
       "(-2*(\\nu + 2)/z + (\\nu + 1)*(\\nu + 2)*(\\nu + 3)/z**3)*\\mathscr{C}[\\nu + 3]"
      ]
     },
     "metadata": {},
     "output_type": "display_data"
    },
    {
     "name": "stdout",
     "output_type": "stream",
     "text": [
      "\n"
     ]
    },
    {
     "data": {
      "text/latex": [
       "$\\displaystyle \\left(\\frac{3 \\left(\\nu + 3\\right)}{z} - \\frac{4 \\left(\\nu + 2\\right) \\left(\\nu + 3\\right) \\left(\\nu + 4\\right)}{z^{3}} + \\frac{\\left(\\nu + 1\\right) \\left(\\nu + 2\\right) \\left(\\nu + 3\\right) \\left(\\nu + 4\\right) \\left(\\nu + 5\\right)}{z^{5}}\\right) {\\mathscr{C}}_{\\nu + 5}$"
      ],
      "text/plain": [
       "(3*(\\nu + 3)/z - 4*(\\nu + 2)*(\\nu + 3)*(\\nu + 4)/z**3 + (\\nu + 1)*(\\nu + 2)*(\\nu + 3)*(\\nu + 4)*(\\nu + 5)/z**5)*\\mathscr{C}[\\nu + 5]"
      ]
     },
     "metadata": {},
     "output_type": "display_data"
    },
    {
     "name": "stdout",
     "output_type": "stream",
     "text": [
      "\n"
     ]
    },
    {
     "data": {
      "text/latex": [
       "$\\displaystyle \\left(- \\frac{4 \\left(\\nu + 4\\right)}{z} + \\frac{10 \\left(\\nu + 3\\right) \\left(\\nu + 4\\right) \\left(\\nu + 5\\right)}{z^{3}} - \\frac{6 \\left(\\nu + 2\\right) \\left(\\nu + 3\\right) \\left(\\nu + 4\\right) \\left(\\nu + 5\\right) \\left(\\nu + 6\\right)}{z^{5}} + \\frac{\\left(\\nu + 1\\right) \\left(\\nu + 2\\right) \\left(\\nu + 3\\right) \\left(\\nu + 4\\right) \\left(\\nu + 5\\right) \\left(\\nu + 6\\right) \\left(\\nu + 7\\right)}{z^{7}}\\right) {\\mathscr{C}}_{\\nu + 7}$"
      ],
      "text/plain": [
       "(-4*(\\nu + 4)/z + 10*(\\nu + 3)*(\\nu + 4)*(\\nu + 5)/z**3 - 6*(\\nu + 2)*(\\nu + 3)*(\\nu + 4)*(\\nu + 5)*(\\nu + 6)/z**5 + (\\nu + 1)*(\\nu + 2)*(\\nu + 3)*(\\nu + 4)*(\\nu + 5)*(\\nu + 6)*(\\nu + 7)/z**7)*\\mathscr{C}[\\nu + 7]"
      ]
     },
     "metadata": {},
     "output_type": "display_data"
    },
    {
     "name": "stdout",
     "output_type": "stream",
     "text": [
      "\n"
     ]
    },
    {
     "data": {
      "text/latex": [
       "$\\displaystyle \\left(\\frac{5 \\left(\\nu + 5\\right)}{z} - \\frac{20 \\left(\\nu + 4\\right) \\left(\\nu + 5\\right) \\left(\\nu + 6\\right)}{z^{3}} + \\frac{21 \\left(\\nu + 3\\right) \\left(\\nu + 4\\right) \\left(\\nu + 5\\right) \\left(\\nu + 6\\right) \\left(\\nu + 7\\right)}{z^{5}} - \\frac{8 \\left(\\nu + 2\\right) \\left(\\nu + 3\\right) \\left(\\nu + 4\\right) \\left(\\nu + 5\\right) \\left(\\nu + 6\\right) \\left(\\nu + 7\\right) \\left(\\nu + 8\\right)}{z^{7}} + \\frac{\\left(\\nu + 1\\right) \\left(\\nu + 2\\right) \\left(\\nu + 3\\right) \\left(\\nu + 4\\right) \\left(\\nu + 5\\right) \\left(\\nu + 6\\right) \\left(\\nu + 7\\right) \\left(\\nu + 8\\right) \\left(\\nu + 9\\right)}{z^{9}}\\right) {\\mathscr{C}}_{\\nu + 9}$"
      ],
      "text/plain": [
       "(5*(\\nu + 5)/z - 20*(\\nu + 4)*(\\nu + 5)*(\\nu + 6)/z**3 + 21*(\\nu + 3)*(\\nu + 4)*(\\nu + 5)*(\\nu + 6)*(\\nu + 7)/z**5 - 8*(\\nu + 2)*(\\nu + 3)*(\\nu + 4)*(\\nu + 5)*(\\nu + 6)*(\\nu + 7)*(\\nu + 8)/z**7 + (\\nu + 1)*(\\nu + 2)*(\\nu + 3)*(\\nu + 4)*(\\nu + 5)*(\\nu + 6)*(\\nu + 7)*(\\nu + 8)*(\\nu + 9)/z**9)*\\mathscr{C}[\\nu + 9]"
      ]
     },
     "metadata": {},
     "output_type": "display_data"
    },
    {
     "name": "stdout",
     "output_type": "stream",
     "text": [
      "\n"
     ]
    },
    {
     "data": {
      "text/latex": [
       "$\\displaystyle \\left(- \\frac{6 \\left(\\nu + 6\\right)}{z} + \\frac{35 \\left(\\nu + 5\\right) \\left(\\nu + 6\\right) \\left(\\nu + 7\\right)}{z^{3}} - \\frac{56 \\left(\\nu + 4\\right) \\left(\\nu + 5\\right) \\left(\\nu + 6\\right) \\left(\\nu + 7\\right) \\left(\\nu + 8\\right)}{z^{5}} + \\frac{36 \\left(\\nu + 3\\right) \\left(\\nu + 4\\right) \\left(\\nu + 5\\right) \\left(\\nu + 6\\right) \\left(\\nu + 7\\right) \\left(\\nu + 8\\right) \\left(\\nu + 9\\right)}{z^{7}} - \\frac{10 \\left(\\nu + 2\\right) \\left(\\nu + 3\\right) \\left(\\nu + 4\\right) \\left(\\nu + 5\\right) \\left(\\nu + 6\\right) \\left(\\nu + 7\\right) \\left(\\nu + 8\\right) \\left(\\nu + 9\\right) \\left(\\nu + 10\\right)}{z^{9}} + \\frac{\\left(\\nu + 1\\right) \\left(\\nu + 2\\right) \\left(\\nu + 3\\right) \\left(\\nu + 4\\right) \\left(\\nu + 5\\right) \\left(\\nu + 6\\right) \\left(\\nu + 7\\right) \\left(\\nu + 8\\right) \\left(\\nu + 9\\right) \\left(\\nu + 10\\right) \\left(\\nu + 11\\right)}{z^{11}}\\right) {\\mathscr{C}}_{\\nu + 11}$"
      ],
      "text/plain": [
       "(-6*(\\nu + 6)/z + 35*(\\nu + 5)*(\\nu + 6)*(\\nu + 7)/z**3 - 56*(\\nu + 4)*(\\nu + 5)*(\\nu + 6)*(\\nu + 7)*(\\nu + 8)/z**5 + 36*(\\nu + 3)*(\\nu + 4)*(\\nu + 5)*(\\nu + 6)*(\\nu + 7)*(\\nu + 8)*(\\nu + 9)/z**7 - 10*(\\nu + 2)*(\\nu + 3)*(\\nu + 4)*(\\nu + 5)*(\\nu + 6)*(\\nu + 7)*(\\nu + 8)*(\\nu + 9)*(\\nu + 10)/z**9 + (\\nu + 1)*(\\nu + 2)*(\\nu + 3)*(\\nu + 4)*(\\nu + 5)*(\\nu + 6)*(\\nu + 7)*(\\nu + 8)*(\\nu + 9)*(\\nu + 10)*(\\nu + 11)/z**11)*\\mathscr{C}[\\nu + 11]"
      ]
     },
     "metadata": {},
     "output_type": "display_data"
    },
    {
     "name": "stdout",
     "output_type": "stream",
     "text": [
      "\n"
     ]
    },
    {
     "data": {
      "text/latex": [
       "$\\displaystyle \\left(\\frac{7 \\left(\\nu + 7\\right)}{z} - \\frac{56 \\left(\\nu + 6\\right) \\left(\\nu + 7\\right) \\left(\\nu + 8\\right)}{z^{3}} + \\frac{126 \\left(\\nu + 5\\right) \\left(\\nu + 6\\right) \\left(\\nu + 7\\right) \\left(\\nu + 8\\right) \\left(\\nu + 9\\right)}{z^{5}} - \\frac{120 \\left(\\nu + 4\\right) \\left(\\nu + 5\\right) \\left(\\nu + 6\\right) \\left(\\nu + 7\\right) \\left(\\nu + 8\\right) \\left(\\nu + 9\\right) \\left(\\nu + 10\\right)}{z^{7}} + \\frac{55 \\left(\\nu + 3\\right) \\left(\\nu + 4\\right) \\left(\\nu + 5\\right) \\left(\\nu + 6\\right) \\left(\\nu + 7\\right) \\left(\\nu + 8\\right) \\left(\\nu + 9\\right) \\left(\\nu + 10\\right) \\left(\\nu + 11\\right)}{z^{9}} - \\frac{12 \\left(\\nu + 2\\right) \\left(\\nu + 3\\right) \\left(\\nu + 4\\right) \\left(\\nu + 5\\right) \\left(\\nu + 6\\right) \\left(\\nu + 7\\right) \\left(\\nu + 8\\right) \\left(\\nu + 9\\right) \\left(\\nu + 10\\right) \\left(\\nu + 11\\right) \\left(\\nu + 12\\right)}{z^{11}} + \\frac{\\left(\\nu + 1\\right) \\left(\\nu + 2\\right) \\left(\\nu + 3\\right) \\left(\\nu + 4\\right) \\left(\\nu + 5\\right) \\left(\\nu + 6\\right) \\left(\\nu + 7\\right) \\left(\\nu + 8\\right) \\left(\\nu + 9\\right) \\left(\\nu + 10\\right) \\left(\\nu + 11\\right) \\left(\\nu + 12\\right) \\left(\\nu + 13\\right)}{z^{13}}\\right) {\\mathscr{C}}_{\\nu + 13}$"
      ],
      "text/plain": [
       "(7*(\\nu + 7)/z - 56*(\\nu + 6)*(\\nu + 7)*(\\nu + 8)/z**3 + 126*(\\nu + 5)*(\\nu + 6)*(\\nu + 7)*(\\nu + 8)*(\\nu + 9)/z**5 - 120*(\\nu + 4)*(\\nu + 5)*(\\nu + 6)*(\\nu + 7)*(\\nu + 8)*(\\nu + 9)*(\\nu + 10)/z**7 + 55*(\\nu + 3)*(\\nu + 4)*(\\nu + 5)*(\\nu + 6)*(\\nu + 7)*(\\nu + 8)*(\\nu + 9)*(\\nu + 10)*(\\nu + 11)/z**9 - 12*(\\nu + 2)*(\\nu + 3)*(\\nu + 4)*(\\nu + 5)*(\\nu + 6)*(\\nu + 7)*(\\nu + 8)*(\\nu + 9)*(\\nu + 10)*(\\nu + 11)*(\\nu + 12)/z**11 + (\\nu + 1)*(\\nu + 2)*(\\nu + 3)*(\\nu + 4)*(\\nu + 5)*(\\nu + 6)*(\\nu + 7)*(\\nu + 8)*(\\nu + 9)*(\\nu + 10)*(\\nu + 11)*(\\nu + 12)*(\\nu + 13)/z**13)*\\mathscr{C}[\\nu + 13]"
      ]
     },
     "metadata": {},
     "output_type": "display_data"
    },
    {
     "name": "stdout",
     "output_type": "stream",
     "text": [
      "\n"
     ]
    },
    {
     "data": {
      "text/latex": [
       "$\\displaystyle \\left(- \\frac{8 \\left(\\nu + 8\\right)}{z} + \\frac{84 \\left(\\nu + 7\\right) \\left(\\nu + 8\\right) \\left(\\nu + 9\\right)}{z^{3}} - \\frac{252 \\left(\\nu + 6\\right) \\left(\\nu + 7\\right) \\left(\\nu + 8\\right) \\left(\\nu + 9\\right) \\left(\\nu + 10\\right)}{z^{5}} + \\frac{330 \\left(\\nu + 5\\right) \\left(\\nu + 6\\right) \\left(\\nu + 7\\right) \\left(\\nu + 8\\right) \\left(\\nu + 9\\right) \\left(\\nu + 10\\right) \\left(\\nu + 11\\right)}{z^{7}} - \\frac{220 \\left(\\nu + 4\\right) \\left(\\nu + 5\\right) \\left(\\nu + 6\\right) \\left(\\nu + 7\\right) \\left(\\nu + 8\\right) \\left(\\nu + 9\\right) \\left(\\nu + 10\\right) \\left(\\nu + 11\\right) \\left(\\nu + 12\\right)}{z^{9}} + \\frac{78 \\left(\\nu + 3\\right) \\left(\\nu + 4\\right) \\left(\\nu + 5\\right) \\left(\\nu + 6\\right) \\left(\\nu + 7\\right) \\left(\\nu + 8\\right) \\left(\\nu + 9\\right) \\left(\\nu + 10\\right) \\left(\\nu + 11\\right) \\left(\\nu + 12\\right) \\left(\\nu + 13\\right)}{z^{11}} - \\frac{14 \\left(\\nu + 2\\right) \\left(\\nu + 3\\right) \\left(\\nu + 4\\right) \\left(\\nu + 5\\right) \\left(\\nu + 6\\right) \\left(\\nu + 7\\right) \\left(\\nu + 8\\right) \\left(\\nu + 9\\right) \\left(\\nu + 10\\right) \\left(\\nu + 11\\right) \\left(\\nu + 12\\right) \\left(\\nu + 13\\right) \\left(\\nu + 14\\right)}{z^{13}} + \\frac{\\left(\\nu + 1\\right) \\left(\\nu + 2\\right) \\left(\\nu + 3\\right) \\left(\\nu + 4\\right) \\left(\\nu + 5\\right) \\left(\\nu + 6\\right) \\left(\\nu + 7\\right) \\left(\\nu + 8\\right) \\left(\\nu + 9\\right) \\left(\\nu + 10\\right) \\left(\\nu + 11\\right) \\left(\\nu + 12\\right) \\left(\\nu + 13\\right) \\left(\\nu + 14\\right) \\left(\\nu + 15\\right)}{z^{15}}\\right) {\\mathscr{C}}_{\\nu + 15}$"
      ],
      "text/plain": [
       "(-8*(\\nu + 8)/z + 84*(\\nu + 7)*(\\nu + 8)*(\\nu + 9)/z**3 - 252*(\\nu + 6)*(\\nu + 7)*(\\nu + 8)*(\\nu + 9)*(\\nu + 10)/z**5 + 330*(\\nu + 5)*(\\nu + 6)*(\\nu + 7)*(\\nu + 8)*(\\nu + 9)*(\\nu + 10)*(\\nu + 11)/z**7 - 220*(\\nu + 4)*(\\nu + 5)*(\\nu + 6)*(\\nu + 7)*(\\nu + 8)*(\\nu + 9)*(\\nu + 10)*(\\nu + 11)*(\\nu + 12)/z**9 + 78*(\\nu + 3)*(\\nu + 4)*(\\nu + 5)*(\\nu + 6)*(\\nu + 7)*(\\nu + 8)*(\\nu + 9)*(\\nu + 10)*(\\nu + 11)*(\\nu + 12)*(\\nu + 13)/z**11 - 14*(\\nu + 2)*(\\nu + 3)*(\\nu + 4)*(\\nu + 5)*(\\nu + 6)*(\\nu + 7)*(\\nu + 8)*(\\nu + 9)*(\\nu + 10)*(\\nu + 11)*(\\nu + 12)*(\\nu + 13)*(\\nu + 14)/z**13 + (\\nu + 1)*(\\nu + 2)*(\\nu + 3)*(\\nu + 4)*(\\nu + 5)*(\\nu + 6)*(\\nu + 7)*(\\nu + 8)*(\\nu + 9)*(\\nu + 10)*(\\nu + 11)*(\\nu + 12)*(\\nu + 13)*(\\nu + 14)*(\\nu + 15)/z**15)*\\mathscr{C}[\\nu + 15]"
      ]
     },
     "metadata": {},
     "output_type": "display_data"
    },
    {
     "name": "stdout",
     "output_type": "stream",
     "text": [
      "\n"
     ]
    }
   ],
   "source": [
    "expr = 𝒞[ν]\n",
    "display(expr)\n",
    "\n",
    "expr = expr.subs(incr(ν))\n",
    "tmp = (\n",
    "    factor_by_add(expr.coeff(𝒞[ν + 1]).collect(z)) * 𝒞[ν + 1]\n",
    "    + 0 * factor_by_add(expr.coeff(𝒞[ν + 2]).collect(z)) * 𝒞[ν + 2]\n",
    ")\n",
    "display(tmp)\n",
    "\n",
    "for i in range(7):\n",
    "    expr = expr.subs(incr(ν + 2 * i + 1)).subs(incr(ν + 2 * i + 2)).expand()\n",
    "    tmp = (\n",
    "        factor_by_add(expr.coeff(𝒞[ν + 2 * i + 3]).collect(z)) * 𝒞[ν + 2 * i + 3]\n",
    "        + 0 * factor_by_add(expr.coeff(𝒞[ν + 2 * i + 4]).collect(z)) * 𝒞[ν + 2 * i + 4]\n",
    "    )\n",
    "    display(tmp)\n",
    "    print()"
   ]
  },
  {
   "cell_type": "code",
   "execution_count": 7,
   "metadata": {},
   "outputs": [
    {
     "data": {
      "text/latex": [
       "$\\displaystyle {\\mathscr{C}}_{\\nu}$"
      ],
      "text/plain": [
       "\\mathscr{C}[\\nu]"
      ]
     },
     "metadata": {},
     "output_type": "display_data"
    },
    {
     "data": {
      "text/latex": [
       "$\\displaystyle \\left(-1 + \\frac{\\left(\\nu + 1\\right) \\left(\\nu + 2\\right)}{z^{2}}\\right) {\\mathscr{C}}_{\\nu + 2} - \\frac{\\left(\\nu + 1\\right) {\\mathscr{C}}_{\\nu + 3}}{z}$"
      ],
      "text/plain": [
       "(-1 + (\\nu + 1)*(\\nu + 2)/z**2)*\\mathscr{C}[\\nu + 2] - (\\nu + 1)*\\mathscr{C}[\\nu + 3]/z"
      ]
     },
     "metadata": {},
     "output_type": "display_data"
    }
   ],
   "source": [
    "expr = 𝒞[ν]\n",
    "display(expr)\n",
    "\n",
    "expr = expr.subs(incr(ν)).subs(incr(ν + 1)).expand()\n",
    "tmp = (\n",
    "    factor_by_add(expr.coeff(𝒞[ν + 2]).collect(z)) * 𝒞[ν + 2]\n",
    "    + factor_by_add(expr.coeff(𝒞[ν + 3]).collect(z)) * 𝒞[ν + 3]\n",
    ")\n",
    "display(tmp)"
   ]
  },
  {
   "cell_type": "code",
   "execution_count": null,
   "metadata": {},
   "outputs": [],
   "source": []
  }
 ],
 "metadata": {
  "kernelspec": {
   "display_name": "Python 3",
   "language": "python",
   "name": "python3"
  },
  "language_info": {
   "codemirror_mode": {
    "name": "ipython",
    "version": 3
   },
   "file_extension": ".py",
   "mimetype": "text/x-python",
   "name": "python",
   "nbconvert_exporter": "python",
   "pygments_lexer": "ipython3",
   "version": "3.9.7"
  }
 },
 "nbformat": 4,
 "nbformat_minor": 4
}
