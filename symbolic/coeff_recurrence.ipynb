{
 "cells": [
  {
   "cell_type": "markdown",
   "metadata": {},
   "source": [
    "# Coefficients recurrence\n",
    "\n",
    "__Zoïs Moitier__\n",
    "\n",
    "_Karlsruhe Institute of Technology, Germany_\n",
    "\n",
    "---\n",
    "\n",
    "## Internals"
   ]
  },
  {
   "cell_type": "code",
   "execution_count": 1,
   "metadata": {},
   "outputs": [],
   "source": [
    "import sympy as sy\n",
    "from IPython.display import display"
   ]
  },
  {
   "cell_type": "code",
   "execution_count": 2,
   "metadata": {},
   "outputs": [],
   "source": [
    "z = sy.symbols(\"\\check{z}\")\n",
    "ν = sy.symbols(r\"\\nu\", cls=sy.Idx)\n",
    "\n",
    "𝒞 = sy.IndexedBase(r\"\\mathscr{C}\", function=True)\n",
    "τ = sy.IndexedBase(r\"\\tau\")"
   ]
  },
  {
   "cell_type": "code",
   "execution_count": 3,
   "metadata": {},
   "outputs": [],
   "source": [
    "def incr(ν):\n",
    "    return [(𝒞[ν], (ν + 1) * 𝒞[ν + 1] / z - 𝒞[ν + 2])]\n",
    "\n",
    "\n",
    "def decr(ν):\n",
    "    return [(𝒞[ν], (ν - 1) * 𝒞[ν - 1] / z - 𝒞[ν - 2])]"
   ]
  },
  {
   "cell_type": "code",
   "execution_count": 4,
   "metadata": {},
   "outputs": [],
   "source": [
    "def factor_by_add(expr):\n",
    "    \"\"\"Simplify expr by add.\"\"\"\n",
    "    if expr.func == sy.Add:\n",
    "        return sum([term.factor() for term in expr.args])\n",
    "    return expr.factor()"
   ]
  },
  {
   "cell_type": "code",
   "execution_count": 7,
   "metadata": {},
   "outputs": [
    {
     "data": {
      "text/latex": [
       "$\\displaystyle {\\mathscr{C}}_{\\nu}$"
      ],
      "text/plain": [
       "\\mathscr{C}[\\nu]"
      ]
     },
     "metadata": {},
     "output_type": "display_data"
    },
    {
     "data": {
      "text/latex": [
       "$\\displaystyle - {\\mathscr{C}}_{\\nu + 2} + \\frac{\\left(\\nu + 1\\right) {\\mathscr{C}}_{\\nu + 1}}{\\check{z}}$"
      ],
      "text/plain": [
       "-\\mathscr{C}[\\nu + 2] + (\\nu + 1)*\\mathscr{C}[\\nu + 1]/\\check{z}"
      ]
     },
     "metadata": {},
     "output_type": "display_data"
    },
    {
     "data": {
      "text/latex": [
       "$\\displaystyle \\left(-1 + \\frac{\\left(\\nu + 1\\right) \\left(\\nu + 2\\right)}{\\check{z}^{2}}\\right) {\\mathscr{C}}_{\\nu + 2} - \\frac{\\left(\\nu + 1\\right) {\\mathscr{C}}_{\\nu + 3}}{\\check{z}}$"
      ],
      "text/plain": [
       "(-1 + (\\nu + 1)*(\\nu + 2)/\\check{z}**2)*\\mathscr{C}[\\nu + 2] - (\\nu + 1)*\\mathscr{C}[\\nu + 3]/\\check{z}"
      ]
     },
     "metadata": {},
     "output_type": "display_data"
    },
    {
     "data": {
      "text/latex": [
       "$\\displaystyle \\left(1 - \\frac{\\left(\\nu + 1\\right) \\left(\\nu + 2\\right)}{\\check{z}^{2}}\\right) {\\mathscr{C}}_{\\nu + 4} + \\left(- \\frac{2 \\left(\\nu + 2\\right)}{\\check{z}} + \\frac{\\left(\\nu + 1\\right) \\left(\\nu + 2\\right) \\left(\\nu + 3\\right)}{\\check{z}^{3}}\\right) {\\mathscr{C}}_{\\nu + 3}$"
      ],
      "text/plain": [
       "(1 - (\\nu + 1)*(\\nu + 2)/\\check{z}**2)*\\mathscr{C}[\\nu + 4] + (-2*(\\nu + 2)/\\check{z} + (\\nu + 1)*(\\nu + 2)*(\\nu + 3)/\\check{z}**3)*\\mathscr{C}[\\nu + 3]"
      ]
     },
     "metadata": {},
     "output_type": "display_data"
    },
    {
     "data": {
      "text/latex": [
       "$\\displaystyle \\left(\\frac{2 \\left(\\nu + 2\\right)}{\\check{z}} - \\frac{\\left(\\nu + 1\\right) \\left(\\nu + 2\\right) \\left(\\nu + 3\\right)}{\\check{z}^{3}}\\right) {\\mathscr{C}}_{\\nu + 5} + \\left(1 - \\frac{3 \\left(\\nu + 2\\right) \\left(\\nu + 3\\right)}{\\check{z}^{2}} + \\frac{\\left(\\nu + 1\\right) \\left(\\nu + 2\\right) \\left(\\nu + 3\\right) \\left(\\nu + 4\\right)}{\\check{z}^{4}}\\right) {\\mathscr{C}}_{\\nu + 4}$"
      ],
      "text/plain": [
       "(2*(\\nu + 2)/\\check{z} - (\\nu + 1)*(\\nu + 2)*(\\nu + 3)/\\check{z}**3)*\\mathscr{C}[\\nu + 5] + (1 - 3*(\\nu + 2)*(\\nu + 3)/\\check{z}**2 + (\\nu + 1)*(\\nu + 2)*(\\nu + 3)*(\\nu + 4)/\\check{z}**4)*\\mathscr{C}[\\nu + 4]"
      ]
     },
     "metadata": {},
     "output_type": "display_data"
    },
    {
     "data": {
      "text/latex": [
       "$\\displaystyle \\left(-1 + \\frac{3 \\left(\\nu + 2\\right) \\left(\\nu + 3\\right)}{\\check{z}^{2}} - \\frac{\\left(\\nu + 1\\right) \\left(\\nu + 2\\right) \\left(\\nu + 3\\right) \\left(\\nu + 4\\right)}{\\check{z}^{4}}\\right) {\\mathscr{C}}_{\\nu + 6} + \\left(\\frac{3 \\left(\\nu + 3\\right)}{\\check{z}} - \\frac{4 \\left(\\nu + 2\\right) \\left(\\nu + 3\\right) \\left(\\nu + 4\\right)}{\\check{z}^{3}} + \\frac{\\left(\\nu + 1\\right) \\left(\\nu + 2\\right) \\left(\\nu + 3\\right) \\left(\\nu + 4\\right) \\left(\\nu + 5\\right)}{\\check{z}^{5}}\\right) {\\mathscr{C}}_{\\nu + 5}$"
      ],
      "text/plain": [
       "(-1 + 3*(\\nu + 2)*(\\nu + 3)/\\check{z}**2 - (\\nu + 1)*(\\nu + 2)*(\\nu + 3)*(\\nu + 4)/\\check{z}**4)*\\mathscr{C}[\\nu + 6] + (3*(\\nu + 3)/\\check{z} - 4*(\\nu + 2)*(\\nu + 3)*(\\nu + 4)/\\check{z}**3 + (\\nu + 1)*(\\nu + 2)*(\\nu + 3)*(\\nu + 4)*(\\nu + 5)/\\check{z}**5)*\\mathscr{C}[\\nu + 5]"
      ]
     },
     "metadata": {},
     "output_type": "display_data"
    }
   ],
   "source": [
    "expr = 𝒞[ν]\n",
    "display(expr)\n",
    "\n",
    "for i in range(5):\n",
    "    expr = expr.subs(incr(ν + i)).expand()\n",
    "    tmp = (\n",
    "        factor_by_add(expr.coeff(𝒞[ν + i + 1]).collect(z)) * 𝒞[ν + i + 1]\n",
    "        + factor_by_add(expr.coeff(𝒞[ν + i + 2]).collect(z)) * 𝒞[ν + i + 2]\n",
    "    )\n",
    "    display(tmp)"
   ]
  },
  {
   "cell_type": "code",
   "execution_count": 8,
   "metadata": {},
   "outputs": [
    {
     "data": {
      "text/latex": [
       "$\\displaystyle {\\mathscr{C}}_{\\nu}$"
      ],
      "text/plain": [
       "\\mathscr{C}[\\nu]"
      ]
     },
     "metadata": {},
     "output_type": "display_data"
    },
    {
     "data": {
      "text/latex": [
       "$\\displaystyle - {\\mathscr{C}}_{\\nu - 2} + \\frac{\\left(\\nu - 1\\right) {\\mathscr{C}}_{\\nu - 1}}{\\check{z}}$"
      ],
      "text/plain": [
       "-\\mathscr{C}[\\nu - 2] + (\\nu - 1)*\\mathscr{C}[\\nu - 1]/\\check{z}"
      ]
     },
     "metadata": {},
     "output_type": "display_data"
    },
    {
     "data": {
      "text/latex": [
       "$\\displaystyle \\left(-1 + \\frac{\\left(\\nu - 2\\right) \\left(\\nu - 1\\right)}{\\check{z}^{2}}\\right) {\\mathscr{C}}_{\\nu - 2} - \\frac{\\left(\\nu - 1\\right) {\\mathscr{C}}_{\\nu - 3}}{\\check{z}}$"
      ],
      "text/plain": [
       "(-1 + (\\nu - 2)*(\\nu - 1)/\\check{z}**2)*\\mathscr{C}[\\nu - 2] - (\\nu - 1)*\\mathscr{C}[\\nu - 3]/\\check{z}"
      ]
     },
     "metadata": {},
     "output_type": "display_data"
    },
    {
     "data": {
      "text/latex": [
       "$\\displaystyle \\left(1 - \\frac{\\left(\\nu - 2\\right) \\left(\\nu - 1\\right)}{\\check{z}^{2}}\\right) {\\mathscr{C}}_{\\nu - 4} + \\left(- \\frac{2 \\left(\\nu - 2\\right)}{\\check{z}} + \\frac{\\left(\\nu - 3\\right) \\left(\\nu - 2\\right) \\left(\\nu - 1\\right)}{\\check{z}^{3}}\\right) {\\mathscr{C}}_{\\nu - 3}$"
      ],
      "text/plain": [
       "(1 - (\\nu - 2)*(\\nu - 1)/\\check{z}**2)*\\mathscr{C}[\\nu - 4] + (-2*(\\nu - 2)/\\check{z} + (\\nu - 3)*(\\nu - 2)*(\\nu - 1)/\\check{z}**3)*\\mathscr{C}[\\nu - 3]"
      ]
     },
     "metadata": {},
     "output_type": "display_data"
    },
    {
     "data": {
      "text/latex": [
       "$\\displaystyle \\left(\\frac{2 \\left(\\nu - 2\\right)}{\\check{z}} - \\frac{\\left(\\nu - 3\\right) \\left(\\nu - 2\\right) \\left(\\nu - 1\\right)}{\\check{z}^{3}}\\right) {\\mathscr{C}}_{\\nu - 5} + \\left(1 - \\frac{3 \\left(\\nu - 3\\right) \\left(\\nu - 2\\right)}{\\check{z}^{2}} + \\frac{\\left(\\nu - 4\\right) \\left(\\nu - 3\\right) \\left(\\nu - 2\\right) \\left(\\nu - 1\\right)}{\\check{z}^{4}}\\right) {\\mathscr{C}}_{\\nu - 4}$"
      ],
      "text/plain": [
       "(2*(\\nu - 2)/\\check{z} - (\\nu - 3)*(\\nu - 2)*(\\nu - 1)/\\check{z}**3)*\\mathscr{C}[\\nu - 5] + (1 - 3*(\\nu - 3)*(\\nu - 2)/\\check{z}**2 + (\\nu - 4)*(\\nu - 3)*(\\nu - 2)*(\\nu - 1)/\\check{z}**4)*\\mathscr{C}[\\nu - 4]"
      ]
     },
     "metadata": {},
     "output_type": "display_data"
    },
    {
     "data": {
      "text/latex": [
       "$\\displaystyle \\left(-1 + \\frac{3 \\left(\\nu - 3\\right) \\left(\\nu - 2\\right)}{\\check{z}^{2}} - \\frac{\\left(\\nu - 4\\right) \\left(\\nu - 3\\right) \\left(\\nu - 2\\right) \\left(\\nu - 1\\right)}{\\check{z}^{4}}\\right) {\\mathscr{C}}_{\\nu - 6} + \\left(\\frac{3 \\left(\\nu - 3\\right)}{\\check{z}} - \\frac{4 \\left(\\nu - 4\\right) \\left(\\nu - 3\\right) \\left(\\nu - 2\\right)}{\\check{z}^{3}} + \\frac{\\left(\\nu - 5\\right) \\left(\\nu - 4\\right) \\left(\\nu - 3\\right) \\left(\\nu - 2\\right) \\left(\\nu - 1\\right)}{\\check{z}^{5}}\\right) {\\mathscr{C}}_{\\nu - 5}$"
      ],
      "text/plain": [
       "(-1 + 3*(\\nu - 3)*(\\nu - 2)/\\check{z}**2 - (\\nu - 4)*(\\nu - 3)*(\\nu - 2)*(\\nu - 1)/\\check{z}**4)*\\mathscr{C}[\\nu - 6] + (3*(\\nu - 3)/\\check{z} - 4*(\\nu - 4)*(\\nu - 3)*(\\nu - 2)/\\check{z}**3 + (\\nu - 5)*(\\nu - 4)*(\\nu - 3)*(\\nu - 2)*(\\nu - 1)/\\check{z}**5)*\\mathscr{C}[\\nu - 5]"
      ]
     },
     "metadata": {},
     "output_type": "display_data"
    }
   ],
   "source": [
    "expr = 𝒞[ν]\n",
    "display(expr)\n",
    "\n",
    "for i in range(5):\n",
    "    expr = expr.subs(decr(ν - i)).expand()\n",
    "    tmp = (\n",
    "        factor_by_add(expr.coeff(𝒞[ν - i - 1]).collect(z)) * 𝒞[ν - i - 1]\n",
    "        + factor_by_add(expr.coeff(𝒞[ν - i - 2]).collect(z)) * 𝒞[ν - i - 2]\n",
    "    )\n",
    "    display(tmp)"
   ]
  },
  {
   "cell_type": "code",
   "execution_count": 16,
   "metadata": {},
   "outputs": [
    {
     "data": {
      "text/latex": [
       "$\\displaystyle \\left[\\begin{matrix}\\frac{\\nu + 1}{\\check{z}} & 1\\\\-1 & 0\\end{matrix}\\right]$"
      ],
      "text/plain": [
       "Matrix([\n",
       "[(\\nu + 1)/\\check{z}, 1],\n",
       "[                 -1, 0]])"
      ]
     },
     "metadata": {},
     "output_type": "display_data"
    },
    {
     "data": {
      "text/latex": [
       "$\\displaystyle \\left[\\begin{matrix}-1 + \\frac{\\left(\\nu + 1\\right) \\left(\\nu + 2\\right)}{\\check{z}^{2}} & \\frac{\\nu + 1}{\\check{z}}\\\\- \\frac{\\nu + 2}{\\check{z}} & -1\\end{matrix}\\right]$"
      ],
      "text/plain": [
       "Matrix([\n",
       "[-1 + (\\nu + 1)*(\\nu + 2)/\\check{z}**2, (\\nu + 1)/\\check{z}],\n",
       "[                 -(\\nu + 2)/\\check{z},                  -1]])"
      ]
     },
     "metadata": {},
     "output_type": "display_data"
    },
    {
     "data": {
      "text/latex": [
       "$\\displaystyle \\left[\\begin{matrix}- \\frac{2 \\left(\\nu + 2\\right)}{\\check{z}} + \\frac{\\left(\\nu + 1\\right) \\left(\\nu + 2\\right) \\left(\\nu + 3\\right)}{\\check{z}^{3}} & -1 + \\frac{\\left(\\nu + 1\\right) \\left(\\nu + 2\\right)}{\\check{z}^{2}}\\\\1 - \\frac{\\left(\\nu + 2\\right) \\left(\\nu + 3\\right)}{\\check{z}^{2}} & - \\frac{\\nu + 2}{\\check{z}}\\end{matrix}\\right]$"
      ],
      "text/plain": [
       "Matrix([\n",
       "[-2*(\\nu + 2)/\\check{z} + (\\nu + 1)*(\\nu + 2)*(\\nu + 3)/\\check{z}**3, -1 + (\\nu + 1)*(\\nu + 2)/\\check{z}**2],\n",
       "[                               1 - (\\nu + 2)*(\\nu + 3)/\\check{z}**2,                  -(\\nu + 2)/\\check{z}]])"
      ]
     },
     "metadata": {},
     "output_type": "display_data"
    },
    {
     "data": {
      "text/latex": [
       "$\\displaystyle \\left[\\begin{matrix}1 - \\frac{3 \\left(\\nu + 2\\right) \\left(\\nu + 3\\right)}{\\check{z}^{2}} + \\frac{\\left(\\nu + 1\\right) \\left(\\nu + 2\\right) \\left(\\nu + 3\\right) \\left(\\nu + 4\\right)}{\\check{z}^{4}} & - \\frac{2 \\left(\\nu + 2\\right)}{\\check{z}} + \\frac{\\left(\\nu + 1\\right) \\left(\\nu + 2\\right) \\left(\\nu + 3\\right)}{\\check{z}^{3}}\\\\\\frac{2 \\left(\\nu + 3\\right)}{\\check{z}} - \\frac{\\left(\\nu + 2\\right) \\left(\\nu + 3\\right) \\left(\\nu + 4\\right)}{\\check{z}^{3}} & 1 - \\frac{\\left(\\nu + 2\\right) \\left(\\nu + 3\\right)}{\\check{z}^{2}}\\end{matrix}\\right]$"
      ],
      "text/plain": [
       "Matrix([\n",
       "[1 - 3*(\\nu + 2)*(\\nu + 3)/\\check{z}**2 + (\\nu + 1)*(\\nu + 2)*(\\nu + 3)*(\\nu + 4)/\\check{z}**4, -2*(\\nu + 2)/\\check{z} + (\\nu + 1)*(\\nu + 2)*(\\nu + 3)/\\check{z}**3],\n",
       "[                           2*(\\nu + 3)/\\check{z} - (\\nu + 2)*(\\nu + 3)*(\\nu + 4)/\\check{z}**3,                                1 - (\\nu + 2)*(\\nu + 3)/\\check{z}**2]])"
      ]
     },
     "metadata": {},
     "output_type": "display_data"
    },
    {
     "data": {
      "text/latex": [
       "$\\displaystyle \\left[\\begin{matrix}\\frac{3 \\left(\\nu + 3\\right)}{\\check{z}} - \\frac{4 \\left(\\nu + 2\\right) \\left(\\nu + 3\\right) \\left(\\nu + 4\\right)}{\\check{z}^{3}} + \\frac{\\left(\\nu + 1\\right) \\left(\\nu + 2\\right) \\left(\\nu + 3\\right) \\left(\\nu + 4\\right) \\left(\\nu + 5\\right)}{\\check{z}^{5}} & 1 - \\frac{3 \\left(\\nu + 2\\right) \\left(\\nu + 3\\right)}{\\check{z}^{2}} + \\frac{\\left(\\nu + 1\\right) \\left(\\nu + 2\\right) \\left(\\nu + 3\\right) \\left(\\nu + 4\\right)}{\\check{z}^{4}}\\\\-1 + \\frac{3 \\left(\\nu + 3\\right) \\left(\\nu + 4\\right)}{\\check{z}^{2}} - \\frac{\\left(\\nu + 2\\right) \\left(\\nu + 3\\right) \\left(\\nu + 4\\right) \\left(\\nu + 5\\right)}{\\check{z}^{4}} & \\frac{2 \\left(\\nu + 3\\right)}{\\check{z}} - \\frac{\\left(\\nu + 2\\right) \\left(\\nu + 3\\right) \\left(\\nu + 4\\right)}{\\check{z}^{3}}\\end{matrix}\\right]$"
      ],
      "text/plain": [
       "Matrix([\n",
       "[3*(\\nu + 3)/\\check{z} - 4*(\\nu + 2)*(\\nu + 3)*(\\nu + 4)/\\check{z}**3 + (\\nu + 1)*(\\nu + 2)*(\\nu + 3)*(\\nu + 4)*(\\nu + 5)/\\check{z}**5, 1 - 3*(\\nu + 2)*(\\nu + 3)/\\check{z}**2 + (\\nu + 1)*(\\nu + 2)*(\\nu + 3)*(\\nu + 4)/\\check{z}**4],\n",
       "[                                       -1 + 3*(\\nu + 3)*(\\nu + 4)/\\check{z}**2 - (\\nu + 2)*(\\nu + 3)*(\\nu + 4)*(\\nu + 5)/\\check{z}**4,                            2*(\\nu + 3)/\\check{z} - (\\nu + 2)*(\\nu + 3)*(\\nu + 4)/\\check{z}**3]])"
      ]
     },
     "metadata": {},
     "output_type": "display_data"
    }
   ],
   "source": [
    "def A(i):\n",
    "    return sy.Matrix([[(ν + i) / z, 1], [-1, 0]])\n",
    "\n",
    "\n",
    "M = sy.eye(2)\n",
    "for i in range(5):\n",
    "    M *= A(i + 1)\n",
    "    display(M.applyfunc(lambda e: factor_by_add(e.expand().collect(z))))"
   ]
  },
  {
   "cell_type": "code",
   "execution_count": null,
   "metadata": {},
   "outputs": [],
   "source": []
  }
 ],
 "metadata": {
  "kernelspec": {
   "display_name": "Python 3",
   "language": "python",
   "name": "python3"
  },
  "language_info": {
   "codemirror_mode": {
    "name": "ipython",
    "version": 3
   },
   "file_extension": ".py",
   "mimetype": "text/x-python",
   "name": "python",
   "nbconvert_exporter": "python",
   "pygments_lexer": "ipython3",
   "version": "3.9.7"
  }
 },
 "nbformat": 4,
 "nbformat_minor": 4
}
